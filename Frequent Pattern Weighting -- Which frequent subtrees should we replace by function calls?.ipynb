{
 "cells": [
  {
   "cell_type": "markdown",
   "metadata": {},
   "source": [
    "We have now computed, for all random forests and all frequency thresholds, \n",
    "\n",
    "- the frequent patterns ( Initial Rooted Frequent Subtree Mining (without embedding computation).ipynb )\n",
    "- all embeddings for each frequent pattern up to size 6 ( Find All Occurrences of All Frequent Patterns of Size up to 6.ipynb )\n",
    "\n",
    "Thus, we have lots of files that store the random forests and some embedding information of the patterns and files that contain pattern info.\n",
    "\n",
    "By loading a pair of files, e.g.,\n",
    "\n",
    "    forests/rootedFrequentTrees/adult/WithLeafEdges/leq6/RF_10_t16_allEmbeddings.json\n",
    "    forests/rootedFrequentTrees/adult/WithLeafEdges/leq6/RF_10_t16.json\n",
    "    \n",
    "We have all the information necessary to see how much it helps us to replace all subtrees in a RF corresponding to a pattern with a function.   "
   ]
  },
  {
   "cell_type": "code",
   "execution_count": 1,
   "metadata": {},
   "outputs": [],
   "source": [
    "import sys\n",
    "import SubtreeSelection.PatternWeights as pw"
   ]
  },
  {
   "cell_type": "code",
   "execution_count": 2,
   "metadata": {},
   "outputs": [],
   "source": [
    "embeddingFile = '/home/pascal/Documents/Uni_synced/random_forests/forests/rootedFrequentTrees/adult/WithLeafEdges/leq6/RF_10_t16_allEmbeddings.json'\n",
    "patternFile = '/home/pascal/Documents/Uni_synced/random_forests/forests/rootedFrequentTrees/adult/WithLeafEdges/leq6/RF_10_t16.json'\n",
    "\n",
    "dataSupportStatistics = pw.PatternStatisticsFromPrecomputed(patternFile, embeddingFile, 'data_support')\n",
    "singleNodeCompressionStatistics = pw.PatternStatisticsFromPrecomputed(patternFile, embeddingFile, 'single_node_compression')\n",
    "frequencyStatistics = pw.PatternStatisticsFromPrecomputed(patternFile, embeddingFile, 'frequency')"
   ]
  },
  {
   "cell_type": "code",
   "execution_count": 3,
   "metadata": {},
   "outputs": [
    {
     "data": {
      "text/plain": [
       "[(14, 50),\n",
       " (18, 6),\n",
       " (127, 6),\n",
       " (125, 6),\n",
       " (173, 6),\n",
       " (25, 4),\n",
       " (111, 4),\n",
       " (28, 4),\n",
       " (6, 3),\n",
       " (149, 3)]"
      ]
     },
     "execution_count": 3,
     "metadata": {},
     "output_type": "execute_result"
    }
   ],
   "source": [
    "frequencyStatistics.most_common_pattern_ids()"
   ]
  },
  {
   "cell_type": "code",
   "execution_count": 4,
   "metadata": {},
   "outputs": [
    {
     "data": {
      "text/plain": [
       "[\"14: w=50, p={'id': 0, 'prediction': []}\",\n",
       " \"18: w=6, p={'id': 0, 'feature': 0}\",\n",
       " \"127: w=6, p={'id': 0, 'feature': 0, 'leftChild': {'id': 1, 'prediction': []}}\",\n",
       " \"125: w=6, p={'id': 0, 'feature': 0, 'rightChild': {'id': 1, 'prediction': []}}\",\n",
       " \"173: w=6, p={'id': 0, 'feature': 0, 'leftChild': {'id': 1, 'prediction': []}, 'rightChild': {'id': 2, 'prediction': []}}\",\n",
       " \"25: w=4, p={'id': 0, 'feature': 27}\",\n",
       " \"111: w=4, p={'id': 0, 'feature': 27, 'leftChild': {'id': 1, 'prediction': []}}\",\n",
       " \"28: w=4, p={'id': 0, 'feature': 50}\",\n",
       " \"6: w=3, p={'id': 0, 'feature': 29}\",\n",
       " \"149: w=3, p={'id': 0, 'feature': 29, 'rightChild': {'id': 1, 'prediction': []}}\"]"
      ]
     },
     "execution_count": 4,
     "metadata": {},
     "output_type": "execute_result"
    }
   ],
   "source": [
    "frequencyStatistics.most_common_patterns_string()"
   ]
  },
  {
   "cell_type": "markdown",
   "metadata": {},
   "source": [
    "As we can see, (and as was to be expected) the pattern that occurs most frequently is rather small. \n",
    "I.e., it consists of a single vertex.\n",
    "\n",
    "This of course is not a useful pattern to be replaced by a function call.\n",
    "\n",
    "Let's try a different weight function, that tells us, how much vertices we could save in the RF by contracting each embedding of a pattern into a single vertex:"
   ]
  },
  {
   "cell_type": "code",
   "execution_count": 5,
   "metadata": {},
   "outputs": [
    {
     "data": {
      "text/plain": [
       "[(173, 6),\n",
       " (176, 1),\n",
       " (159, 1),\n",
       " (182, 1),\n",
       " (191, 1),\n",
       " (167, 1),\n",
       " (18, 0),\n",
       " (127, 0),\n",
       " (125, 0),\n",
       " (14, 0)]"
      ]
     },
     "execution_count": 5,
     "metadata": {},
     "output_type": "execute_result"
    }
   ],
   "source": [
    "singleNodeCompressionStatistics.most_common_pattern_ids()"
   ]
  },
  {
   "cell_type": "markdown",
   "metadata": {},
   "source": [
    "## Questions:\n",
    "\n",
    "- What are useful weighting functions for our actual scenario?\n",
    "- How do we deal with overlaps of the embeddings?\n",
    "  - Is it more useful to process patterns that are higher up in the DT first? (I guess)\n",
    "- For some strange reason, the embedding file above is not correct.\n",
    "  - See how the pattern file works correctly..."
   ]
  },
  {
   "cell_type": "code",
   "execution_count": 6,
   "metadata": {},
   "outputs": [],
   "source": [
    "transactionFile = '/home/pascal/Documents/Uni_synced/random_forests/forests/adult/text/RF_10.json'\n",
    "patternFile = '/home/pascal/Documents/Uni_synced/random_forests/forests/rootedFrequentTrees/adult/WithLeafEdges/leq6/RF_10_t16.json'\n",
    "\n",
    "dataSupportStatisticsSkratch = pw.PatternStatisticsFromSkratch(patternFile, transactionFile, 'data_support')\n",
    "singleNodeCompressionStatisticsSkratch = pw.PatternStatisticsFromSkratch(patternFile, transactionFile, 'single_node_compression')\n",
    "frequencyStatisticsSkratch = pw.PatternStatisticsFromSkratch(patternFile, transactionFile, 'frequency')"
   ]
  },
  {
   "cell_type": "code",
   "execution_count": 7,
   "metadata": {},
   "outputs": [
    {
     "data": {
      "text/plain": [
       "[\"152: w=70425, p={'id': 0, 'feature': 61, 'rightChild': {'id': 1, 'prediction': []}}\",\n",
       " \"141: w=47721, p={'id': 0, 'feature': 63, 'leftChild': {'id': 1, 'prediction': []}}\",\n",
       " \"127: w=39455, p={'id': 0, 'feature': 0, 'leftChild': {'id': 1, 'prediction': []}}\",\n",
       " \"143: w=36641, p={'id': 0, 'feature': 63, 'rightChild': {'id': 1, 'prediction': []}}\",\n",
       " \"114: w=36292, p={'id': 0, 'feature': 62, 'rightChild': {'id': 1, 'prediction': []}}\",\n",
       " \"164: w=34024, p={'id': 0, 'feature': 63, 'leftChild': {'id': 1, 'prediction': []}, 'rightChild': {'id': 2, 'prediction': []}}\",\n",
       " \"139: w=33990, p={'id': 0, 'feature': 63, 'rightChild': {'id': 1, 'feature': 0}}\",\n",
       " \"125: w=31140, p={'id': 0, 'feature': 0, 'rightChild': {'id': 1, 'prediction': []}}\",\n",
       " \"136: w=28909, p={'id': 0, 'feature': 26, 'leftChild': {'id': 1, 'prediction': []}}\",\n",
       " \"134: w=28038, p={'id': 0, 'feature': 26, 'rightChild': {'id': 1, 'prediction': []}}\"]"
      ]
     },
     "execution_count": 7,
     "metadata": {},
     "output_type": "execute_result"
    }
   ],
   "source": [
    "dataSupportStatisticsSkratch.most_common_patterns_string()"
   ]
  },
  {
   "cell_type": "code",
   "execution_count": 8,
   "metadata": {},
   "outputs": [
    {
     "data": {
      "text/plain": [
       "[\"181: w=310, p={'id': 0, 'feature': 9, 'leftChild': {'id': 1, 'prediction': []}, 'rightChild': {'id': 2, 'prediction': []}}\",\n",
       " \"173: w=301, p={'id': 0, 'feature': 0, 'leftChild': {'id': 1, 'prediction': []}, 'rightChild': {'id': 2, 'prediction': []}}\",\n",
       " \"164: w=266, p={'id': 0, 'feature': 63, 'leftChild': {'id': 1, 'prediction': []}, 'rightChild': {'id': 2, 'prediction': []}}\",\n",
       " \"159: w=156, p={'id': 0, 'feature': 61, 'leftChild': {'id': 1, 'prediction': []}, 'rightChild': {'id': 2, 'prediction': []}}\",\n",
       " \"167: w=117, p={'id': 0, 'feature': 26, 'leftChild': {'id': 1, 'prediction': []}, 'rightChild': {'id': 2, 'prediction': []}}\",\n",
       " \"178: w=90, p={'id': 0, 'feature': 62, 'leftChild': {'id': 1, 'prediction': []}, 'rightChild': {'id': 2, 'prediction': []}}\",\n",
       " \"185: w=89, p={'id': 0, 'feature': 1, 'leftChild': {'id': 1, 'prediction': []}, 'rightChild': {'id': 2, 'prediction': []}}\",\n",
       " \"175: w=53, p={'id': 0, 'feature': 54, 'leftChild': {'id': 1, 'prediction': []}, 'rightChild': {'id': 2, 'prediction': []}}\",\n",
       " \"189: w=53, p={'id': 0, 'feature': 2, 'leftChild': {'id': 1, 'prediction': []}, 'rightChild': {'id': 2, 'prediction': []}}\",\n",
       " \"192: w=53, p={'id': 0, 'feature': 58, 'leftChild': {'id': 1, 'prediction': []}, 'rightChild': {'id': 2, 'prediction': []}}\"]"
      ]
     },
     "execution_count": 8,
     "metadata": {},
     "output_type": "execute_result"
    }
   ],
   "source": [
    "singleNodeCompressionStatisticsSkratch.most_common_patterns_string()"
   ]
  },
  {
   "cell_type": "code",
   "execution_count": 9,
   "metadata": {},
   "outputs": [
    {
     "data": {
      "text/plain": [
       "[\"14: w=7405, p={'id': 0, 'prediction': []}\",\n",
       " \"18: w=699, p={'id': 0, 'feature': 0}\",\n",
       " \"30: w=622, p={'id': 0, 'feature': 9}\",\n",
       " \"10: w=606, p={'id': 0, 'feature': 63}\",\n",
       " \"5: w=473, p={'id': 0, 'feature': 61}\",\n",
       " \"104: w=399, p={'id': 0, 'feature': 9, 'leftChild': {'id': 1, 'prediction': []}}\",\n",
       " \"127: w=387, p={'id': 0, 'feature': 0, 'leftChild': {'id': 1, 'prediction': []}}\",\n",
       " \"102: w=382, p={'id': 0, 'feature': 9, 'rightChild': {'id': 1, 'prediction': []}}\",\n",
       " \"12: w=377, p={'id': 0, 'feature': 26}\",\n",
       " \"125: w=370, p={'id': 0, 'feature': 0, 'rightChild': {'id': 1, 'prediction': []}}\"]"
      ]
     },
     "execution_count": 9,
     "metadata": {},
     "output_type": "execute_result"
    }
   ],
   "source": [
    "frequencyStatisticsSkratch.most_common_patterns_string()"
   ]
  }
 ],
 "metadata": {
  "kernelspec": {
   "display_name": "Python 3",
   "language": "python",
   "name": "python3"
  },
  "language_info": {
   "codemirror_mode": {
    "name": "ipython",
    "version": 3
   },
   "file_extension": ".py",
   "mimetype": "text/x-python",
   "name": "python",
   "nbconvert_exporter": "python",
   "pygments_lexer": "ipython3",
   "version": "3.6.7"
  }
 },
 "nbformat": 4,
 "nbformat_minor": 2
}
