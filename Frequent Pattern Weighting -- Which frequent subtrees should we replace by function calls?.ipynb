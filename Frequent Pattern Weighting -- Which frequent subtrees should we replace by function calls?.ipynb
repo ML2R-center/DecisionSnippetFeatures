{
 "cells": [
  {
   "cell_type": "markdown",
   "metadata": {},
   "source": [
    "We have now computed, for all random forests and all frequency thresholds, \n",
    "\n",
    "- the frequent patterns ( Initial Rooted Frequent Subtree Mining (without embedding computation).ipynb )\n",
    "- all embeddings for each frequent pattern up to size 6 ( Find All Occurrences of All Frequent Patterns of Size up to 6.ipynb )\n",
    "\n",
    "Thus, we have lots of files that store the random forests and some embedding information of the patterns and files that contain pattern info.\n",
    "\n",
    "By loading a pair of files, e.g.,\n",
    "\n",
    "    forests/rootedFrequentTrees/adult/WithLeafEdges/leq6/RF_10_t16_allEmbeddings.json\n",
    "    forests/rootedFrequentTrees/adult/WithLeafEdges/leq6/RF_10_t16.json\n",
    "    \n",
    "We have all the information necessary to see how much it helps us to replace all subtrees in a RF corresponding to a pattern with a function.   "
   ]
  },
  {
   "cell_type": "code",
   "execution_count": 1,
   "metadata": {},
   "outputs": [],
   "source": [
    "import sys\n",
    "sys.path.append('./SubtreeSelection/')\n",
    "import PatternWeights"
   ]
  },
  {
   "cell_type": "code",
   "execution_count": 2,
   "metadata": {},
   "outputs": [],
   "source": [
    "embeddingFile = '/home/pascal/Documents/Uni_synced/random_forests/forests/rootedFrequentTrees/adult/WithLeafEdges/leq6/RF_10_t16_allEmbeddings.json'\n",
    "patternFile = '/home/pascal/Documents/Uni_synced/random_forests/forests/rootedFrequentTrees/adult/WithLeafEdges/leq6/RF_10_t16.json'\n",
    "\n",
    "dataSupportStatistics = PatternWeights.PatternStatistics(embeddingFile, patternFile, 'data_support')\n",
    "singleNodeCompressionStatistics = PatternWeights.PatternStatistics(embeddingFile, patternFile, 'single_node_compression')\n",
    "frequencyStatistics = PatternWeights.PatternStatistics(embeddingFile, patternFile, 'frequency')"
   ]
  },
  {
   "cell_type": "code",
   "execution_count": 5,
   "metadata": {},
   "outputs": [
    {
     "data": {
      "text/plain": [
       "[(14, 50),\n",
       " (18, 6),\n",
       " (127, 6),\n",
       " (125, 6),\n",
       " (173, 6),\n",
       " (25, 4),\n",
       " (111, 4),\n",
       " (28, 4),\n",
       " (6, 3),\n",
       " (149, 3)]"
      ]
     },
     "execution_count": 5,
     "metadata": {},
     "output_type": "execute_result"
    }
   ],
   "source": [
    "frequencyStatistics.most_common_pattern_ids()"
   ]
  },
  {
   "cell_type": "code",
   "execution_count": 7,
   "metadata": {},
   "outputs": [
    {
     "data": {
      "text/plain": [
       "[\"14: w=50, p={'id': 0, 'prediction': []}\",\n",
       " \"18: w=6, p={'id': 0, 'feature': 0}\",\n",
       " \"127: w=6, p={'id': 0, 'feature': 0, 'leftChild': {'id': 1, 'prediction': []}}\",\n",
       " \"125: w=6, p={'id': 0, 'feature': 0, 'rightChild': {'id': 1, 'prediction': []}}\",\n",
       " \"173: w=6, p={'id': 0, 'feature': 0, 'leftChild': {'id': 1, 'prediction': []}, 'rightChild': {'id': 2, 'prediction': []}}\",\n",
       " \"25: w=4, p={'id': 0, 'feature': 27}\",\n",
       " \"111: w=4, p={'id': 0, 'feature': 27, 'leftChild': {'id': 1, 'prediction': []}}\",\n",
       " \"28: w=4, p={'id': 0, 'feature': 50}\",\n",
       " \"6: w=3, p={'id': 0, 'feature': 29}\",\n",
       " \"149: w=3, p={'id': 0, 'feature': 29, 'rightChild': {'id': 1, 'prediction': []}}\"]"
      ]
     },
     "execution_count": 7,
     "metadata": {},
     "output_type": "execute_result"
    }
   ],
   "source": [
    "frequencyStatistics.most_common_patterns_string()"
   ]
  },
  {
   "cell_type": "markdown",
   "metadata": {},
   "source": [
    "As we can see, (and as was to be expected) the pattern that occurs most frequently is rather small. \n",
    "I.e., it consists of a single vertex.\n",
    "\n",
    "This of course is not a useful pattern to be replaced by a function call.\n",
    "\n",
    "Let's try a different weight function, that tells us, how much vertices we could save in the RF by contracting each embedding of a pattern into a single vertex:"
   ]
  },
  {
   "cell_type": "code",
   "execution_count": 3,
   "metadata": {},
   "outputs": [
    {
     "data": {
      "text/plain": [
       "[(173, 6),\n",
       " (176, 1),\n",
       " (159, 1),\n",
       " (182, 1),\n",
       " (191, 1),\n",
       " (167, 1),\n",
       " (14, 0),\n",
       " (18, 0),\n",
       " (127, 0),\n",
       " (125, 0)]"
      ]
     },
     "execution_count": 3,
     "metadata": {},
     "output_type": "execute_result"
    }
   ],
   "source": [
    "singleNodeCompressionStatistics.most_common_pattern_ids()"
   ]
  },
  {
   "cell_type": "markdown",
   "metadata": {},
   "source": [
    "## Questions:\n",
    "\n",
    "- What are useful weighting functions for our actual scenario?\n",
    "- How do we deal with overlaps of the embeddings?\n",
    "  - Is it more useful to process patterns that are higher up in the DT first? (I guess)"
   ]
  }
 ],
 "metadata": {
  "kernelspec": {
   "display_name": "Python 3",
   "language": "python",
   "name": "python3"
  },
  "language_info": {
   "codemirror_mode": {
    "name": "ipython",
    "version": 3
   },
   "file_extension": ".py",
   "mimetype": "text/x-python",
   "name": "python",
   "nbconvert_exporter": "python",
   "pygments_lexer": "ipython3",
   "version": "3.6.7"
  }
 },
 "nbformat": 4,
 "nbformat_minor": 2
}
