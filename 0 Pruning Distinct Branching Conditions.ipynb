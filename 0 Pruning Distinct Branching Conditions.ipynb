{
 "cells": [
  {
   "cell_type": "markdown",
   "metadata": {},
   "source": [
    "# Reducing Distinct Branching Conditions in Decision Forests"
   ]
  },
  {
   "cell_type": "markdown",
   "metadata": {},
   "source": [
    "We are following the paper 'An Algorithm for Reducing the Number of Distinct Branching Conditions in a Decision Forest' by Nakamura and Sakurada."
   ]
  },
  {
   "cell_type": "markdown",
   "metadata": {},
   "source": [
    "## Datasets"
   ]
  },
  {
   "cell_type": "markdown",
   "metadata": {},
   "source": [
    "We will use the 'adult' and 'wine-quality' datasets only. The data are given as json files of the following names:"
   ]
  },
  {
   "cell_type": "code",
   "execution_count": 1,
   "metadata": {},
   "outputs": [
    {
     "name": "stdout",
     "output_type": "stream",
     "text": [
      "forests/adult/text/DT_10.json  forests/wine-quality/text/DT_10.json\r\n",
      "forests/adult/text/DT_15.json  forests/wine-quality/text/DT_15.json\r\n",
      "forests/adult/text/DT_1.json   forests/wine-quality/text/DT_1.json\r\n",
      "forests/adult/text/DT_20.json  forests/wine-quality/text/DT_20.json\r\n",
      "forests/adult/text/DT_5.json   forests/wine-quality/text/DT_5.json\r\n",
      "forests/adult/text/ET_10.json  forests/wine-quality/text/ET_10.json\r\n",
      "forests/adult/text/ET_15.json  forests/wine-quality/text/ET_15.json\r\n",
      "forests/adult/text/ET_1.json   forests/wine-quality/text/ET_1.json\r\n",
      "forests/adult/text/ET_20.json  forests/wine-quality/text/ET_20.json\r\n",
      "forests/adult/text/ET_5.json   forests/wine-quality/text/ET_5.json\r\n",
      "forests/adult/text/RF_10.json  forests/wine-quality/text/RF_10.json\r\n",
      "forests/adult/text/RF_15.json  forests/wine-quality/text/RF_15.json\r\n",
      "forests/adult/text/RF_1.json   forests/wine-quality/text/RF_1.json\r\n",
      "forests/adult/text/RF_20.json  forests/wine-quality/text/RF_20.json\r\n",
      "forests/adult/text/RF_5.json   forests/wine-quality/text/RF_5.json\r\n"
     ]
    }
   ],
   "source": [
    "ls forests/*/text/*.json"
   ]
  },
  {
   "cell_type": "markdown",
   "metadata": {},
   "source": [
    "We now prune these decision forests with $\\sigma = 0.1$. <br>\n",
    "TODO: do the pruning for $\\sigma \\in \\{0.0, 0.1, 0.2, 0.3 \\}$."
   ]
  },
  {
   "cell_type": "markdown",
   "metadata": {},
   "source": [
    "This took about 5 to 6 minutes for my laptop."
   ]
  },
  {
   "cell_type": "code",
   "execution_count": 16,
   "metadata": {},
   "outputs": [
    {
     "name": "stdout",
     "output_type": "stream",
     "text": [
      "forests/adult/text/DT_10.json -> DT_10_pruned_with_sigma_0_1.json\n",
      "forests/adult/text/DT_15.json -> DT_15_pruned_with_sigma_0_1.json\n",
      "forests/adult/text/DT_1.json -> DT_1_pruned_with_sigma_0_1.json\n",
      "forests/adult/text/DT_1_pruned_with_sigma_0_1.json -> DT_1_pruned_with_sigma_0_1_pruned_with_sigma_0_1.json\n",
      "forests/adult/text/DT_20.json -> DT_20_pruned_with_sigma_0_1.json\n",
      "forests/adult/text/DT_5.json -> DT_5_pruned_with_sigma_0_1.json\n",
      "forests/adult/text/ET_10.json -> ET_10_pruned_with_sigma_0_1.json\n",
      "forests/adult/text/ET_15.json -> ET_15_pruned_with_sigma_0_1.json\n",
      "forests/adult/text/ET_1.json -> ET_1_pruned_with_sigma_0_1.json\n",
      "forests/adult/text/ET_20.json -> ET_20_pruned_with_sigma_0_1.json\n",
      "forests/adult/text/ET_5.json -> ET_5_pruned_with_sigma_0_1.json\n",
      "forests/adult/text/RF_10.json -> RF_10_pruned_with_sigma_0_1.json\n",
      "forests/adult/text/RF_15.json -> RF_15_pruned_with_sigma_0_1.json\n",
      "forests/adult/text/RF_1.json -> RF_1_pruned_with_sigma_0_1.json\n",
      "forests/adult/text/RF_20.json -> RF_20_pruned_with_sigma_0_1.json\n",
      "forests/adult/text/RF_5.json -> RF_5_pruned_with_sigma_0_1.json\n",
      "forests/wine-quality/text/DT_10.json -> DT_10_pruned_with_sigma_0_1.json\n",
      "forests/wine-quality/text/DT_15.json -> DT_15_pruned_with_sigma_0_1.json\n",
      "forests/wine-quality/text/DT_1.json -> DT_1_pruned_with_sigma_0_1.json\n",
      "forests/wine-quality/text/DT_20.json -> DT_20_pruned_with_sigma_0_1.json\n",
      "forests/wine-quality/text/DT_5.json -> DT_5_pruned_with_sigma_0_1.json\n",
      "forests/wine-quality/text/ET_10.json -> ET_10_pruned_with_sigma_0_1.json\n",
      "forests/wine-quality/text/ET_15.json -> ET_15_pruned_with_sigma_0_1.json\n",
      "forests/wine-quality/text/ET_1.json -> ET_1_pruned_with_sigma_0_1.json\n",
      "forests/wine-quality/text/ET_20.json -> ET_20_pruned_with_sigma_0_1.json\n",
      "forests/wine-quality/text/ET_5.json -> ET_5_pruned_with_sigma_0_1.json\n",
      "forests/wine-quality/text/RF_10.json -> RF_10_pruned_with_sigma_0_1.json\n",
      "forests/wine-quality/text/RF_15.json -> RF_15_pruned_with_sigma_0_1.json\n",
      "forests/wine-quality/text/RF_1.json -> RF_1_pruned_with_sigma_0_1.json\n",
      "forests/wine-quality/text/RF_20.json -> RF_20_pruned_with_sigma_0_1.json\n",
      "forests/wine-quality/text/RF_5.json -> RF_5_pruned_with_sigma_0_1.json\n"
     ]
    },
    {
     "name": "stderr",
     "output_type": "stream",
     "text": [
      "/home/markus/anaconda3/lib/python3.7/site-packages/sklearn/ensemble/weight_boosting.py:29: DeprecationWarning: numpy.core.umath_tests is an internal NumPy module and should not be imported. It will be removed in a future NumPy release.\n",
      "  from numpy.core.umath_tests import inner1d\n",
      "/home/markus/anaconda3/lib/python3.7/site-packages/sklearn/ensemble/weight_boosting.py:29: DeprecationWarning: numpy.core.umath_tests is an internal NumPy module and should not be imported. It will be removed in a future NumPy release.\n",
      "  from numpy.core.umath_tests import inner1d\n",
      "/home/markus/anaconda3/lib/python3.7/site-packages/sklearn/ensemble/weight_boosting.py:29: DeprecationWarning: numpy.core.umath_tests is an internal NumPy module and should not be imported. It will be removed in a future NumPy release.\n",
      "  from numpy.core.umath_tests import inner1d\n",
      "/home/markus/anaconda3/lib/python3.7/site-packages/sklearn/ensemble/weight_boosting.py:29: DeprecationWarning: numpy.core.umath_tests is an internal NumPy module and should not be imported. It will be removed in a future NumPy release.\n",
      "  from numpy.core.umath_tests import inner1d\n",
      "Traceback (most recent call last):\n",
      "  File \"./Pruning/pruning.py\", line 192, in <module>\n",
      "    f.fromJSON(input_file)\n",
      "  File \"arch-forest/code/Forest.py\", line 48, in fromJSON\n",
      "    tree.fromJSON(x)\n",
      "  File \"arch-forest/code/Tree.py\", line 29, in fromJSON\n",
      "    node.fromJSON(json)\n",
      "  File \"arch-forest/code/Node.py\", line 101, in fromJSON\n",
      "    self.numSamples = int(json[\"numSamples\"])\n",
      "TypeError: int() argument must be a string, a bytes-like object or a number, not 'NoneType'\n",
      "/home/markus/anaconda3/lib/python3.7/site-packages/sklearn/ensemble/weight_boosting.py:29: DeprecationWarning: numpy.core.umath_tests is an internal NumPy module and should not be imported. It will be removed in a future NumPy release.\n",
      "  from numpy.core.umath_tests import inner1d\n",
      "/home/markus/anaconda3/lib/python3.7/site-packages/sklearn/ensemble/weight_boosting.py:29: DeprecationWarning: numpy.core.umath_tests is an internal NumPy module and should not be imported. It will be removed in a future NumPy release.\n",
      "  from numpy.core.umath_tests import inner1d\n",
      "/home/markus/anaconda3/lib/python3.7/site-packages/sklearn/ensemble/weight_boosting.py:29: DeprecationWarning: numpy.core.umath_tests is an internal NumPy module and should not be imported. It will be removed in a future NumPy release.\n",
      "  from numpy.core.umath_tests import inner1d\n",
      "/home/markus/anaconda3/lib/python3.7/site-packages/sklearn/ensemble/weight_boosting.py:29: DeprecationWarning: numpy.core.umath_tests is an internal NumPy module and should not be imported. It will be removed in a future NumPy release.\n",
      "  from numpy.core.umath_tests import inner1d\n",
      "/home/markus/anaconda3/lib/python3.7/site-packages/sklearn/ensemble/weight_boosting.py:29: DeprecationWarning: numpy.core.umath_tests is an internal NumPy module and should not be imported. It will be removed in a future NumPy release.\n",
      "  from numpy.core.umath_tests import inner1d\n",
      "/home/markus/anaconda3/lib/python3.7/site-packages/sklearn/ensemble/weight_boosting.py:29: DeprecationWarning: numpy.core.umath_tests is an internal NumPy module and should not be imported. It will be removed in a future NumPy release.\n",
      "  from numpy.core.umath_tests import inner1d\n",
      "/home/markus/anaconda3/lib/python3.7/site-packages/sklearn/ensemble/weight_boosting.py:29: DeprecationWarning: numpy.core.umath_tests is an internal NumPy module and should not be imported. It will be removed in a future NumPy release.\n",
      "  from numpy.core.umath_tests import inner1d\n",
      "/home/markus/anaconda3/lib/python3.7/site-packages/sklearn/ensemble/weight_boosting.py:29: DeprecationWarning: numpy.core.umath_tests is an internal NumPy module and should not be imported. It will be removed in a future NumPy release.\n",
      "  from numpy.core.umath_tests import inner1d\n",
      "/home/markus/anaconda3/lib/python3.7/site-packages/sklearn/ensemble/weight_boosting.py:29: DeprecationWarning: numpy.core.umath_tests is an internal NumPy module and should not be imported. It will be removed in a future NumPy release.\n",
      "  from numpy.core.umath_tests import inner1d\n",
      "/home/markus/anaconda3/lib/python3.7/site-packages/sklearn/ensemble/weight_boosting.py:29: DeprecationWarning: numpy.core.umath_tests is an internal NumPy module and should not be imported. It will be removed in a future NumPy release.\n",
      "  from numpy.core.umath_tests import inner1d\n",
      "/home/markus/anaconda3/lib/python3.7/site-packages/sklearn/ensemble/weight_boosting.py:29: DeprecationWarning: numpy.core.umath_tests is an internal NumPy module and should not be imported. It will be removed in a future NumPy release.\n",
      "  from numpy.core.umath_tests import inner1d\n",
      "/home/markus/anaconda3/lib/python3.7/site-packages/sklearn/ensemble/weight_boosting.py:29: DeprecationWarning: numpy.core.umath_tests is an internal NumPy module and should not be imported. It will be removed in a future NumPy release.\n",
      "  from numpy.core.umath_tests import inner1d\n",
      "/home/markus/anaconda3/lib/python3.7/site-packages/sklearn/ensemble/weight_boosting.py:29: DeprecationWarning: numpy.core.umath_tests is an internal NumPy module and should not be imported. It will be removed in a future NumPy release.\n",
      "  from numpy.core.umath_tests import inner1d\n",
      "/home/markus/anaconda3/lib/python3.7/site-packages/sklearn/ensemble/weight_boosting.py:29: DeprecationWarning: numpy.core.umath_tests is an internal NumPy module and should not be imported. It will be removed in a future NumPy release.\n",
      "  from numpy.core.umath_tests import inner1d\n",
      "/home/markus/anaconda3/lib/python3.7/site-packages/sklearn/ensemble/weight_boosting.py:29: DeprecationWarning: numpy.core.umath_tests is an internal NumPy module and should not be imported. It will be removed in a future NumPy release.\n",
      "  from numpy.core.umath_tests import inner1d\n",
      "/home/markus/anaconda3/lib/python3.7/site-packages/sklearn/ensemble/weight_boosting.py:29: DeprecationWarning: numpy.core.umath_tests is an internal NumPy module and should not be imported. It will be removed in a future NumPy release.\n",
      "  from numpy.core.umath_tests import inner1d\n",
      "/home/markus/anaconda3/lib/python3.7/site-packages/sklearn/ensemble/weight_boosting.py:29: DeprecationWarning: numpy.core.umath_tests is an internal NumPy module and should not be imported. It will be removed in a future NumPy release.\n",
      "  from numpy.core.umath_tests import inner1d\n",
      "/home/markus/anaconda3/lib/python3.7/site-packages/sklearn/ensemble/weight_boosting.py:29: DeprecationWarning: numpy.core.umath_tests is an internal NumPy module and should not be imported. It will be removed in a future NumPy release.\n",
      "  from numpy.core.umath_tests import inner1d\n",
      "/home/markus/anaconda3/lib/python3.7/site-packages/sklearn/ensemble/weight_boosting.py:29: DeprecationWarning: numpy.core.umath_tests is an internal NumPy module and should not be imported. It will be removed in a future NumPy release.\n",
      "  from numpy.core.umath_tests import inner1d\n",
      "/home/markus/anaconda3/lib/python3.7/site-packages/sklearn/ensemble/weight_boosting.py:29: DeprecationWarning: numpy.core.umath_tests is an internal NumPy module and should not be imported. It will be removed in a future NumPy release.\n",
      "  from numpy.core.umath_tests import inner1d\n",
      "/home/markus/anaconda3/lib/python3.7/site-packages/sklearn/ensemble/weight_boosting.py:29: DeprecationWarning: numpy.core.umath_tests is an internal NumPy module and should not be imported. It will be removed in a future NumPy release.\n",
      "  from numpy.core.umath_tests import inner1d\n",
      "/home/markus/anaconda3/lib/python3.7/site-packages/sklearn/ensemble/weight_boosting.py:29: DeprecationWarning: numpy.core.umath_tests is an internal NumPy module and should not be imported. It will be removed in a future NumPy release.\n",
      "  from numpy.core.umath_tests import inner1d\n",
      "/home/markus/anaconda3/lib/python3.7/site-packages/sklearn/ensemble/weight_boosting.py:29: DeprecationWarning: numpy.core.umath_tests is an internal NumPy module and should not be imported. It will be removed in a future NumPy release.\n",
      "  from numpy.core.umath_tests import inner1d\n",
      "/home/markus/anaconda3/lib/python3.7/site-packages/sklearn/ensemble/weight_boosting.py:29: DeprecationWarning: numpy.core.umath_tests is an internal NumPy module and should not be imported. It will be removed in a future NumPy release.\n",
      "  from numpy.core.umath_tests import inner1d\n",
      "/home/markus/anaconda3/lib/python3.7/site-packages/sklearn/ensemble/weight_boosting.py:29: DeprecationWarning: numpy.core.umath_tests is an internal NumPy module and should not be imported. It will be removed in a future NumPy release.\n",
      "  from numpy.core.umath_tests import inner1d\n",
      "/home/markus/anaconda3/lib/python3.7/site-packages/sklearn/ensemble/weight_boosting.py:29: DeprecationWarning: numpy.core.umath_tests is an internal NumPy module and should not be imported. It will be removed in a future NumPy release.\n",
      "  from numpy.core.umath_tests import inner1d\n",
      "/home/markus/anaconda3/lib/python3.7/site-packages/sklearn/ensemble/weight_boosting.py:29: DeprecationWarning: numpy.core.umath_tests is an internal NumPy module and should not be imported. It will be removed in a future NumPy release.\n",
      "  from numpy.core.umath_tests import inner1d\n"
     ]
    }
   ],
   "source": [
    "%%bash\n",
    "for dataset in adult wine-quality; do\n",
    "    for f in forests/${dataset}/text/*.json; do\n",
    "        echo ${f} '->' `basename ${f} .json`_pruned_with_sigma_0_1.json\n",
    "        ./Pruning/pruning.py ${f} forests/${dataset}/FeatureVectors.dat 0.1\n",
    "    done\n",
    "done"
   ]
  },
  {
   "cell_type": "code",
   "execution_count": 17,
   "metadata": {},
   "outputs": [
    {
     "name": "stdout",
     "output_type": "stream",
     "text": [
      "forests/adult/text/DT_10.json\r\n",
      "forests/adult/text/DT_10_pruned_with_sigma_0_1.json\r\n",
      "forests/adult/text/DT_15.json\r\n",
      "forests/adult/text/DT_15_pruned_with_sigma_0_1.json\r\n",
      "forests/adult/text/DT_1.json\r\n",
      "forests/adult/text/DT_1_pruned_with_sigma_0_1.json\r\n",
      "forests/adult/text/DT_20.json\r\n",
      "forests/adult/text/DT_20_pruned_with_sigma_0_1.json\r\n",
      "forests/adult/text/DT_5.json\r\n",
      "forests/adult/text/DT_5_pruned_with_sigma_0_1.json\r\n",
      "forests/adult/text/ET_10.json\r\n",
      "forests/adult/text/ET_10_pruned_with_sigma_0_1.json\r\n",
      "forests/adult/text/ET_15.json\r\n",
      "forests/adult/text/ET_15_pruned_with_sigma_0_1.json\r\n",
      "forests/adult/text/ET_1.json\r\n",
      "forests/adult/text/ET_1_pruned_with_sigma_0_1.json\r\n",
      "forests/adult/text/ET_20.json\r\n",
      "forests/adult/text/ET_20_pruned_with_sigma_0_1.json\r\n",
      "forests/adult/text/ET_5.json\r\n",
      "forests/adult/text/ET_5_pruned_with_sigma_0_1.json\r\n",
      "forests/adult/text/RF_10.json\r\n",
      "forests/adult/text/RF_10_pruned_with_sigma_0_1.json\r\n",
      "forests/adult/text/RF_15.json\r\n",
      "forests/adult/text/RF_15_pruned_with_sigma_0_1.json\r\n",
      "forests/adult/text/RF_1.json\r\n",
      "forests/adult/text/RF_1_pruned_with_sigma_0_1.json\r\n",
      "forests/adult/text/RF_20.json\r\n",
      "forests/adult/text/RF_20_pruned_with_sigma_0_1.json\r\n",
      "forests/adult/text/RF_5.json\r\n",
      "forests/adult/text/RF_5_pruned_with_sigma_0_1.json\r\n",
      "forests/wine-quality/text/DT_10.json\r\n",
      "forests/wine-quality/text/DT_10_pruned_with_sigma_0_1.json\r\n",
      "forests/wine-quality/text/DT_15.json\r\n",
      "forests/wine-quality/text/DT_15_pruned_with_sigma_0_1.json\r\n",
      "forests/wine-quality/text/DT_1.json\r\n",
      "forests/wine-quality/text/DT_1_pruned_with_sigma_0_1.json\r\n",
      "forests/wine-quality/text/DT_20.json\r\n",
      "forests/wine-quality/text/DT_20_pruned_with_sigma_0_1.json\r\n",
      "forests/wine-quality/text/DT_5.json\r\n",
      "forests/wine-quality/text/DT_5_pruned_with_sigma_0_1.json\r\n",
      "forests/wine-quality/text/ET_10.json\r\n",
      "forests/wine-quality/text/ET_10_pruned_with_sigma_0_1.json\r\n",
      "forests/wine-quality/text/ET_15.json\r\n",
      "forests/wine-quality/text/ET_15_pruned_with_sigma_0_1.json\r\n",
      "forests/wine-quality/text/ET_1.json\r\n",
      "forests/wine-quality/text/ET_1_pruned_with_sigma_0_1.json\r\n",
      "forests/wine-quality/text/ET_20.json\r\n",
      "forests/wine-quality/text/ET_20_pruned_with_sigma_0_1.json\r\n",
      "forests/wine-quality/text/ET_5.json\r\n",
      "forests/wine-quality/text/ET_5_pruned_with_sigma_0_1.json\r\n",
      "forests/wine-quality/text/RF_10.json\r\n",
      "forests/wine-quality/text/RF_10_pruned_with_sigma_0_1.json\r\n",
      "forests/wine-quality/text/RF_15.json\r\n",
      "forests/wine-quality/text/RF_15_pruned_with_sigma_0_1.json\r\n",
      "forests/wine-quality/text/RF_1.json\r\n",
      "forests/wine-quality/text/RF_1_pruned_with_sigma_0_1.json\r\n",
      "forests/wine-quality/text/RF_20.json\r\n",
      "forests/wine-quality/text/RF_20_pruned_with_sigma_0_1.json\r\n",
      "forests/wine-quality/text/RF_5.json\r\n",
      "forests/wine-quality/text/RF_5_pruned_with_sigma_0_1.json\r\n"
     ]
    }
   ],
   "source": [
    "ls forests/*/text/*.json"
   ]
  },
  {
   "cell_type": "code",
   "execution_count": null,
   "metadata": {},
   "outputs": [],
   "source": []
  }
 ],
 "metadata": {
  "kernelspec": {
   "display_name": "Python 3",
   "language": "python",
   "name": "python3"
  },
  "language_info": {
   "codemirror_mode": {
    "name": "ipython",
    "version": 3
   },
   "file_extension": ".py",
   "mimetype": "text/x-python",
   "name": "python",
   "nbconvert_exporter": "python",
   "pygments_lexer": "ipython3",
   "version": "3.7.5"
  }
 },
 "nbformat": 4,
 "nbformat_minor": 2
}
