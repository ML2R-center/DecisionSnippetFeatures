{
 "cells": [
  {
   "cell_type": "markdown",
   "metadata": {},
   "source": [
    "# Reducing Distinct Branching Conditions in Decision Forests"
   ]
  },
  {
   "cell_type": "markdown",
   "metadata": {},
   "source": [
    "We are following the paper 'An Algorithm for Reducing the Number of Distinct Branching Conditions in a Decision Forest' by Nakamura and Sakurada."
   ]
  },
  {
   "cell_type": "markdown",
   "metadata": {},
   "source": [
    "## Datasets"
   ]
  },
  {
   "cell_type": "markdown",
   "metadata": {},
   "source": [
    "We will use the 'adult' and 'wine-quality' datasets only. The data are given as json files of the following names:"
   ]
  },
  {
   "cell_type": "code",
   "execution_count": 12,
   "metadata": {},
   "outputs": [
    {
     "name": "stdout",
     "output_type": "stream",
     "text": [
      "forests/adult/text/DT_10.json\n",
      "forests/adult/text/DT_15.json\n",
      "forests/adult/text/DT_1.json\n",
      "forests/adult/text/DT_20.json\n",
      "forests/adult/text/DT_5.json\n",
      "forests/adult/text/ET_10.json\n",
      "forests/adult/text/ET_15.json\n",
      "forests/adult/text/ET_1.json\n",
      "forests/adult/text/ET_20.json\n",
      "forests/adult/text/ET_5.json\n",
      "forests/adult/text/RF_10.json\n",
      "forests/adult/text/RF_15.json\n",
      "forests/adult/text/RF_1.json\n",
      "forests/adult/text/RF_20.json\n",
      "forests/adult/text/RF_5.json\n",
      "forests/wine-quality/text/DT_10.json\n",
      "forests/wine-quality/text/DT_15.json\n",
      "forests/wine-quality/text/DT_1.json\n",
      "forests/wine-quality/text/DT_20.json\n",
      "forests/wine-quality/text/DT_5.json\n",
      "forests/wine-quality/text/ET_10.json\n",
      "forests/wine-quality/text/ET_15.json\n",
      "forests/wine-quality/text/ET_1.json\n",
      "forests/wine-quality/text/ET_20.json\n",
      "forests/wine-quality/text/ET_5.json\n",
      "forests/wine-quality/text/RF_10.json\n",
      "forests/wine-quality/text/RF_15.json\n",
      "forests/wine-quality/text/RF_1.json\n",
      "forests/wine-quality/text/RF_20.json\n",
      "forests/wine-quality/text/RF_5.json\n"
     ]
    }
   ],
   "source": [
    "%%bash\n",
    "rm forests/*/text/*pruned_with*.json\n",
    "ls forests/*/text/*.json"
   ]
  },
  {
   "cell_type": "markdown",
   "metadata": {},
   "source": [
    "We now prune these decision forests with $\\sigma = 0.1$. <br>\n",
    "TODO: do the pruning for $\\sigma \\in \\{0.0, 0.1, 0.2, 0.3 \\}$."
   ]
  },
  {
   "cell_type": "markdown",
   "metadata": {},
   "source": [
    "This took about 5 to 6 minutes for my laptop."
   ]
  },
  {
   "cell_type": "code",
   "execution_count": 2,
   "metadata": {},
   "outputs": [
    {
     "name": "stdout",
     "output_type": "stream",
     "text": [
      "Process is interrupted.\n"
     ]
    }
   ],
   "source": [
    "%%bash\n",
    "for sigma in 0.0 0.1 0.2 0.3; do (\n",
    "    for dataset in adult wine-quality; do (\n",
    "        for f in forests/${dataset}/text/*.json; do\n",
    "            echo ${f} '->' `basename ${f} .json`_pruned_with_sigma_${sigma}.json\n",
    "            ./Pruning/pruning.py ${f} forests/${dataset}/FeatureVectors.dat ${sigma}\n",
    "        done ) & #The '&' character here parallelizes it on 8 threads\n",
    "    done ) &\n",
    "done"
   ]
  },
  {
   "cell_type": "code",
   "execution_count": 13,
   "metadata": {},
   "outputs": [
    {
     "name": "stdout",
     "output_type": "stream",
     "text": [
      "forests/adult/text/DT_10.json\r\n",
      "forests/adult/text/DT_10_pruned_with_sigma_0_0.json\r\n",
      "forests/adult/text/DT_10_pruned_with_sigma_0_1.json\r\n",
      "forests/adult/text/DT_10_pruned_with_sigma_0_2.json\r\n",
      "forests/adult/text/DT_10_pruned_with_sigma_0_3.json\r\n",
      "forests/adult/text/DT_15.json\r\n",
      "forests/adult/text/DT_15_pruned_with_sigma_0_0.json\r\n",
      "forests/adult/text/DT_15_pruned_with_sigma_0_1.json\r\n",
      "forests/adult/text/DT_15_pruned_with_sigma_0_2.json\r\n",
      "forests/adult/text/DT_15_pruned_with_sigma_0_3.json\r\n",
      "forests/adult/text/DT_1.json\r\n",
      "forests/adult/text/DT_1_pruned_with_sigma_0_0.json\r\n",
      "forests/adult/text/DT_1_pruned_with_sigma_0_1.json\r\n",
      "forests/adult/text/DT_1_pruned_with_sigma_0_2.json\r\n",
      "forests/adult/text/DT_1_pruned_with_sigma_0_3.json\r\n",
      "forests/adult/text/DT_20.json\r\n",
      "forests/adult/text/DT_20_pruned_with_sigma_0_0.json\r\n",
      "forests/adult/text/DT_20_pruned_with_sigma_0_1.json\r\n",
      "forests/adult/text/DT_20_pruned_with_sigma_0_2.json\r\n",
      "forests/adult/text/DT_20_pruned_with_sigma_0_3.json\r\n",
      "forests/adult/text/DT_5.json\r\n",
      "forests/adult/text/DT_5_pruned_with_sigma_0_0.json\r\n",
      "forests/adult/text/DT_5_pruned_with_sigma_0_1.json\r\n",
      "forests/adult/text/DT_5_pruned_with_sigma_0_2.json\r\n",
      "forests/adult/text/DT_5_pruned_with_sigma_0_3.json\r\n",
      "forests/adult/text/ET_10.json\r\n",
      "forests/adult/text/ET_10_pruned_with_sigma_0_0.json\r\n",
      "forests/adult/text/ET_10_pruned_with_sigma_0_1.json\r\n",
      "forests/adult/text/ET_10_pruned_with_sigma_0_2.json\r\n",
      "forests/adult/text/ET_10_pruned_with_sigma_0_3.json\r\n",
      "forests/adult/text/ET_15.json\r\n",
      "forests/adult/text/ET_15_pruned_with_sigma_0_0.json\r\n",
      "forests/adult/text/ET_15_pruned_with_sigma_0_1.json\r\n",
      "forests/adult/text/ET_15_pruned_with_sigma_0_2.json\r\n",
      "forests/adult/text/ET_15_pruned_with_sigma_0_3.json\r\n",
      "forests/adult/text/ET_1.json\r\n",
      "forests/adult/text/ET_1_pruned_with_sigma_0_0.json\r\n",
      "forests/adult/text/ET_1_pruned_with_sigma_0_1.json\r\n",
      "forests/adult/text/ET_1_pruned_with_sigma_0_2.json\r\n",
      "forests/adult/text/ET_1_pruned_with_sigma_0_3.json\r\n",
      "forests/adult/text/ET_20.json\r\n",
      "forests/adult/text/ET_20_pruned_with_sigma_0_0.json\r\n",
      "forests/adult/text/ET_20_pruned_with_sigma_0_1.json\r\n",
      "forests/adult/text/ET_20_pruned_with_sigma_0_2.json\r\n",
      "forests/adult/text/ET_20_pruned_with_sigma_0_3.json\r\n",
      "forests/adult/text/ET_5.json\r\n",
      "forests/adult/text/ET_5_pruned_with_sigma_0_0.json\r\n",
      "forests/adult/text/ET_5_pruned_with_sigma_0_1.json\r\n",
      "forests/adult/text/ET_5_pruned_with_sigma_0_2.json\r\n",
      "forests/adult/text/ET_5_pruned_with_sigma_0_3.json\r\n",
      "forests/adult/text/RF_10.json\r\n",
      "forests/adult/text/RF_10_pruned_with_sigma_0_0.json\r\n",
      "forests/adult/text/RF_10_pruned_with_sigma_0_1.json\r\n",
      "forests/adult/text/RF_10_pruned_with_sigma_0_2.json\r\n",
      "forests/adult/text/RF_10_pruned_with_sigma_0_3.json\r\n",
      "forests/adult/text/RF_15.json\r\n",
      "forests/adult/text/RF_15_pruned_with_sigma_0_0.json\r\n",
      "forests/adult/text/RF_15_pruned_with_sigma_0_1.json\r\n",
      "forests/adult/text/RF_15_pruned_with_sigma_0_2.json\r\n",
      "forests/adult/text/RF_15_pruned_with_sigma_0_3.json\r\n",
      "forests/adult/text/RF_1.json\r\n",
      "forests/adult/text/RF_1_pruned_with_sigma_0_0.json\r\n",
      "forests/adult/text/RF_1_pruned_with_sigma_0_1.json\r\n",
      "forests/adult/text/RF_1_pruned_with_sigma_0_2.json\r\n",
      "forests/adult/text/RF_1_pruned_with_sigma_0_3.json\r\n",
      "forests/adult/text/RF_20.json\r\n",
      "forests/adult/text/RF_20_pruned_with_sigma_0_0.json\r\n",
      "forests/adult/text/RF_20_pruned_with_sigma_0_1.json\r\n",
      "forests/adult/text/RF_20_pruned_with_sigma_0_2.json\r\n",
      "forests/adult/text/RF_20_pruned_with_sigma_0_3.json\r\n",
      "forests/adult/text/RF_5.json\r\n",
      "forests/adult/text/RF_5_pruned_with_sigma_0_0.json\r\n",
      "forests/adult/text/RF_5_pruned_with_sigma_0_1.json\r\n",
      "forests/adult/text/RF_5_pruned_with_sigma_0_2.json\r\n",
      "forests/adult/text/RF_5_pruned_with_sigma_0_3.json\r\n",
      "forests/wine-quality/text/DT_10.json\r\n",
      "forests/wine-quality/text/DT_10_pruned_with_sigma_0_0.json\r\n",
      "forests/wine-quality/text/DT_10_pruned_with_sigma_0_1.json\r\n",
      "forests/wine-quality/text/DT_10_pruned_with_sigma_0_2.json\r\n",
      "forests/wine-quality/text/DT_10_pruned_with_sigma_0_3.json\r\n",
      "forests/wine-quality/text/DT_15.json\r\n",
      "forests/wine-quality/text/DT_15_pruned_with_sigma_0_0.json\r\n",
      "forests/wine-quality/text/DT_15_pruned_with_sigma_0_1.json\r\n",
      "forests/wine-quality/text/DT_15_pruned_with_sigma_0_2.json\r\n",
      "forests/wine-quality/text/DT_15_pruned_with_sigma_0_3.json\r\n",
      "forests/wine-quality/text/DT_1.json\r\n",
      "forests/wine-quality/text/DT_1_pruned_with_sigma_0_0.json\r\n",
      "forests/wine-quality/text/DT_1_pruned_with_sigma_0_1.json\r\n",
      "forests/wine-quality/text/DT_1_pruned_with_sigma_0_2.json\r\n",
      "forests/wine-quality/text/DT_1_pruned_with_sigma_0_3.json\r\n",
      "forests/wine-quality/text/DT_20.json\r\n",
      "forests/wine-quality/text/DT_20_pruned_with_sigma_0_0.json\r\n",
      "forests/wine-quality/text/DT_20_pruned_with_sigma_0_1.json\r\n",
      "forests/wine-quality/text/DT_20_pruned_with_sigma_0_2.json\r\n",
      "forests/wine-quality/text/DT_20_pruned_with_sigma_0_3.json\r\n",
      "forests/wine-quality/text/DT_5.json\r\n",
      "forests/wine-quality/text/DT_5_pruned_with_sigma_0_0.json\r\n",
      "forests/wine-quality/text/DT_5_pruned_with_sigma_0_1.json\r\n",
      "forests/wine-quality/text/DT_5_pruned_with_sigma_0_2.json\r\n",
      "forests/wine-quality/text/DT_5_pruned_with_sigma_0_3.json\r\n",
      "forests/wine-quality/text/ET_10.json\r\n",
      "forests/wine-quality/text/ET_10_pruned_with_sigma_0_0.json\r\n",
      "forests/wine-quality/text/ET_10_pruned_with_sigma_0_1.json\r\n",
      "forests/wine-quality/text/ET_10_pruned_with_sigma_0_2.json\r\n",
      "forests/wine-quality/text/ET_10_pruned_with_sigma_0_3.json\r\n",
      "forests/wine-quality/text/ET_15.json\r\n",
      "forests/wine-quality/text/ET_15_pruned_with_sigma_0_0.json\r\n",
      "forests/wine-quality/text/ET_15_pruned_with_sigma_0_1.json\r\n",
      "forests/wine-quality/text/ET_15_pruned_with_sigma_0_2.json\r\n",
      "forests/wine-quality/text/ET_15_pruned_with_sigma_0_3.json\r\n",
      "forests/wine-quality/text/ET_1.json\r\n",
      "forests/wine-quality/text/ET_1_pruned_with_sigma_0_0.json\r\n",
      "forests/wine-quality/text/ET_1_pruned_with_sigma_0_1.json\r\n",
      "forests/wine-quality/text/ET_1_pruned_with_sigma_0_2.json\r\n",
      "forests/wine-quality/text/ET_1_pruned_with_sigma_0_3.json\r\n",
      "forests/wine-quality/text/ET_20.json\r\n",
      "forests/wine-quality/text/ET_20_pruned_with_sigma_0_0.json\r\n",
      "forests/wine-quality/text/ET_20_pruned_with_sigma_0_1.json\r\n",
      "forests/wine-quality/text/ET_20_pruned_with_sigma_0_2.json\r\n",
      "forests/wine-quality/text/ET_20_pruned_with_sigma_0_3.json\r\n",
      "forests/wine-quality/text/ET_5.json\r\n",
      "forests/wine-quality/text/ET_5_pruned_with_sigma_0_0.json\r\n",
      "forests/wine-quality/text/ET_5_pruned_with_sigma_0_1.json\r\n",
      "forests/wine-quality/text/ET_5_pruned_with_sigma_0_2.json\r\n",
      "forests/wine-quality/text/ET_5_pruned_with_sigma_0_3.json\r\n",
      "forests/wine-quality/text/RF_10.json\r\n",
      "forests/wine-quality/text/RF_10_pruned_with_sigma_0_0.json\r\n",
      "forests/wine-quality/text/RF_10_pruned_with_sigma_0_1.json\r\n",
      "forests/wine-quality/text/RF_10_pruned_with_sigma_0_2.json\r\n",
      "forests/wine-quality/text/RF_10_pruned_with_sigma_0_3.json\r\n",
      "forests/wine-quality/text/RF_15.json\r\n",
      "forests/wine-quality/text/RF_15_pruned_with_sigma_0_0.json\r\n",
      "forests/wine-quality/text/RF_15_pruned_with_sigma_0_1.json\r\n",
      "forests/wine-quality/text/RF_15_pruned_with_sigma_0_2.json\r\n",
      "forests/wine-quality/text/RF_15_pruned_with_sigma_0_3.json\r\n",
      "forests/wine-quality/text/RF_1.json\r\n",
      "forests/wine-quality/text/RF_1_pruned_with_sigma_0_0.json\r\n",
      "forests/wine-quality/text/RF_1_pruned_with_sigma_0_1.json\r\n",
      "forests/wine-quality/text/RF_1_pruned_with_sigma_0_2.json\r\n",
      "forests/wine-quality/text/RF_1_pruned_with_sigma_0_3.json\r\n",
      "forests/wine-quality/text/RF_20.json\r\n",
      "forests/wine-quality/text/RF_20_pruned_with_sigma_0_0.json\r\n",
      "forests/wine-quality/text/RF_20_pruned_with_sigma_0_1.json\r\n",
      "forests/wine-quality/text/RF_20_pruned_with_sigma_0_2.json\r\n",
      "forests/wine-quality/text/RF_20_pruned_with_sigma_0_3.json\r\n",
      "forests/wine-quality/text/RF_5.json\r\n",
      "forests/wine-quality/text/RF_5_pruned_with_sigma_0_0.json\r\n",
      "forests/wine-quality/text/RF_5_pruned_with_sigma_0_1.json\r\n",
      "forests/wine-quality/text/RF_5_pruned_with_sigma_0_2.json\r\n",
      "forests/wine-quality/text/RF_5_pruned_with_sigma_0_3.json\r\n"
     ]
    }
   ],
   "source": [
    "ls forests/*/text/*.json"
   ]
  },
  {
   "cell_type": "code",
   "execution_count": null,
   "metadata": {},
   "outputs": [],
   "source": []
  }
 ],
 "metadata": {
  "kernelspec": {
   "display_name": "Python 3",
   "language": "python",
   "name": "python3"
  },
  "language_info": {
   "codemirror_mode": {
    "name": "ipython",
    "version": 3
   },
   "file_extension": ".py",
   "mimetype": "text/x-python",
   "name": "python",
   "nbconvert_exporter": "python",
   "pygments_lexer": "ipython3",
   "version": "3.7.4"
  }
 },
 "nbformat": 4,
 "nbformat_minor": 2
}
