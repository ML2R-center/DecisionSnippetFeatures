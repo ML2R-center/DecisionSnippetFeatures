{
 "cells": [
  {
   "cell_type": "markdown",
   "metadata": {},
   "source": [
    "# Reducing Distinct Branching Conditions in Decision Forests"
   ]
  },
  {
   "cell_type": "markdown",
   "metadata": {},
   "source": [
    "We are following the paper 'An Algorithm for Reducing the Number of Distinct Branching Conditions in a Decision Forest' by Nakamura and Sakurada."
   ]
  },
  {
   "cell_type": "markdown",
   "metadata": {},
   "source": [
    "## Datasets"
   ]
  },
  {
   "cell_type": "markdown",
   "metadata": {},
   "source": [
    "We will use the 'adult' and 'wine-quality' datasets only. The data are given as json files of the following names:"
   ]
  },
  {
   "cell_type": "code",
   "execution_count": 1,
   "metadata": {},
   "outputs": [
    {
     "name": "stdout",
     "output_type": "stream",
     "text": [
      "forests/adult/text/DT_10.json  forests/wine-quality/text/DT_10.json\r\n",
      "forests/adult/text/DT_15.json  forests/wine-quality/text/DT_15.json\r\n",
      "forests/adult/text/DT_1.json   forests/wine-quality/text/DT_1.json\r\n",
      "forests/adult/text/DT_20.json  forests/wine-quality/text/DT_20.json\r\n",
      "forests/adult/text/DT_5.json   forests/wine-quality/text/DT_5.json\r\n",
      "forests/adult/text/ET_10.json  forests/wine-quality/text/ET_10.json\r\n",
      "forests/adult/text/ET_15.json  forests/wine-quality/text/ET_15.json\r\n",
      "forests/adult/text/ET_1.json   forests/wine-quality/text/ET_1.json\r\n",
      "forests/adult/text/ET_20.json  forests/wine-quality/text/ET_20.json\r\n",
      "forests/adult/text/ET_5.json   forests/wine-quality/text/ET_5.json\r\n",
      "forests/adult/text/RF_10.json  forests/wine-quality/text/RF_10.json\r\n",
      "forests/adult/text/RF_15.json  forests/wine-quality/text/RF_15.json\r\n",
      "forests/adult/text/RF_1.json   forests/wine-quality/text/RF_1.json\r\n",
      "forests/adult/text/RF_20.json  forests/wine-quality/text/RF_20.json\r\n",
      "forests/adult/text/RF_5.json   forests/wine-quality/text/RF_5.json\r\n"
     ]
    }
   ],
   "source": [
    "ls forests/*/text/*.json"
   ]
  },
  {
   "cell_type": "markdown",
   "metadata": {},
   "source": [
    "We now prune these decision forests with $\\sigma = 0.1$. <br>\n",
    "TODO: do the pruning for $\\sigma \\in \\{0.0, 0.1, 0.2, 0.3 \\}$."
   ]
  },
  {
   "cell_type": "code",
   "execution_count": 14,
   "metadata": {},
   "outputs": [
    {
     "name": "stderr",
     "output_type": "stream",
     "text": [
      "/home/markus/anaconda3/lib/python3.7/site-packages/sklearn/ensemble/weight_boosting.py:29: DeprecationWarning: numpy.core.umath_tests is an internal NumPy module and should not be imported. It will be removed in a future NumPy release.\n",
      "  from numpy.core.umath_tests import inner1d\n",
      "Traceback (most recent call last):\n",
      "  File \"./Pruning/pruning.py\", line 196, in <module>\n",
      "    Min_DBN(feature_vectors, f, sigma)\n",
      "  File \"./Pruning/pruning.py\", line 64, in Min_DBN\n",
      "    s, I = Min_IntSet(L[i])\n",
      "  File \"./Pruning/pruning.py\", line 29, in Min_IntSet\n",
      "    t = intervals[i[0]][1]; b = 0\n",
      "IndexError: list index out of range\n"
     ]
    },
    {
     "ename": "CalledProcessError",
     "evalue": "Command 'b'./Pruning/pruning.py forests/adult/text/DT_1.json forests/adult/FeatureVectors.dat 0.1\\n'' returned non-zero exit status 1.",
     "output_type": "error",
     "traceback": [
      "\u001b[0;31m---------------------------------------------------------------------------\u001b[0m",
      "\u001b[0;31mCalledProcessError\u001b[0m                        Traceback (most recent call last)",
      "\u001b[0;32m<ipython-input-14-600fe2958fd9>\u001b[0m in \u001b[0;36m<module>\u001b[0;34m\u001b[0m\n\u001b[0;32m----> 1\u001b[0;31m \u001b[0mget_ipython\u001b[0m\u001b[0;34m(\u001b[0m\u001b[0;34m)\u001b[0m\u001b[0;34m.\u001b[0m\u001b[0mrun_cell_magic\u001b[0m\u001b[0;34m(\u001b[0m\u001b[0;34m'bash'\u001b[0m\u001b[0;34m,\u001b[0m \u001b[0;34m''\u001b[0m\u001b[0;34m,\u001b[0m \u001b[0;34m'./Pruning/pruning.py forests/adult/text/DT_1.json forests/adult/FeatureVectors.dat 0.1\\n'\u001b[0m\u001b[0;34m)\u001b[0m\u001b[0;34m\u001b[0m\u001b[0;34m\u001b[0m\u001b[0m\n\u001b[0m",
      "\u001b[0;32m~/anaconda3/lib/python3.7/site-packages/IPython/core/interactiveshell.py\u001b[0m in \u001b[0;36mrun_cell_magic\u001b[0;34m(self, magic_name, line, cell)\u001b[0m\n\u001b[1;32m   2350\u001b[0m             \u001b[0;32mwith\u001b[0m \u001b[0mself\u001b[0m\u001b[0;34m.\u001b[0m\u001b[0mbuiltin_trap\u001b[0m\u001b[0;34m:\u001b[0m\u001b[0;34m\u001b[0m\u001b[0;34m\u001b[0m\u001b[0m\n\u001b[1;32m   2351\u001b[0m                 \u001b[0margs\u001b[0m \u001b[0;34m=\u001b[0m \u001b[0;34m(\u001b[0m\u001b[0mmagic_arg_s\u001b[0m\u001b[0;34m,\u001b[0m \u001b[0mcell\u001b[0m\u001b[0;34m)\u001b[0m\u001b[0;34m\u001b[0m\u001b[0;34m\u001b[0m\u001b[0m\n\u001b[0;32m-> 2352\u001b[0;31m                 \u001b[0mresult\u001b[0m \u001b[0;34m=\u001b[0m \u001b[0mfn\u001b[0m\u001b[0;34m(\u001b[0m\u001b[0;34m*\u001b[0m\u001b[0margs\u001b[0m\u001b[0;34m,\u001b[0m \u001b[0;34m**\u001b[0m\u001b[0mkwargs\u001b[0m\u001b[0;34m)\u001b[0m\u001b[0;34m\u001b[0m\u001b[0;34m\u001b[0m\u001b[0m\n\u001b[0m\u001b[1;32m   2353\u001b[0m             \u001b[0;32mreturn\u001b[0m \u001b[0mresult\u001b[0m\u001b[0;34m\u001b[0m\u001b[0;34m\u001b[0m\u001b[0m\n\u001b[1;32m   2354\u001b[0m \u001b[0;34m\u001b[0m\u001b[0m\n",
      "\u001b[0;32m~/anaconda3/lib/python3.7/site-packages/IPython/core/magics/script.py\u001b[0m in \u001b[0;36mnamed_script_magic\u001b[0;34m(line, cell)\u001b[0m\n\u001b[1;32m    140\u001b[0m             \u001b[0;32melse\u001b[0m\u001b[0;34m:\u001b[0m\u001b[0;34m\u001b[0m\u001b[0;34m\u001b[0m\u001b[0m\n\u001b[1;32m    141\u001b[0m                 \u001b[0mline\u001b[0m \u001b[0;34m=\u001b[0m \u001b[0mscript\u001b[0m\u001b[0;34m\u001b[0m\u001b[0;34m\u001b[0m\u001b[0m\n\u001b[0;32m--> 142\u001b[0;31m             \u001b[0;32mreturn\u001b[0m \u001b[0mself\u001b[0m\u001b[0;34m.\u001b[0m\u001b[0mshebang\u001b[0m\u001b[0;34m(\u001b[0m\u001b[0mline\u001b[0m\u001b[0;34m,\u001b[0m \u001b[0mcell\u001b[0m\u001b[0;34m)\u001b[0m\u001b[0;34m\u001b[0m\u001b[0;34m\u001b[0m\u001b[0m\n\u001b[0m\u001b[1;32m    143\u001b[0m \u001b[0;34m\u001b[0m\u001b[0m\n\u001b[1;32m    144\u001b[0m         \u001b[0;31m# write a basic docstring:\u001b[0m\u001b[0;34m\u001b[0m\u001b[0;34m\u001b[0m\u001b[0;34m\u001b[0m\u001b[0m\n",
      "\u001b[0;32m</home/markus/anaconda3/lib/python3.7/site-packages/decorator.py:decorator-gen-110>\u001b[0m in \u001b[0;36mshebang\u001b[0;34m(self, line, cell)\u001b[0m\n",
      "\u001b[0;32m~/anaconda3/lib/python3.7/site-packages/IPython/core/magic.py\u001b[0m in \u001b[0;36m<lambda>\u001b[0;34m(f, *a, **k)\u001b[0m\n\u001b[1;32m    185\u001b[0m     \u001b[0;31m# but it's overkill for just that one bit of state.\u001b[0m\u001b[0;34m\u001b[0m\u001b[0;34m\u001b[0m\u001b[0;34m\u001b[0m\u001b[0m\n\u001b[1;32m    186\u001b[0m     \u001b[0;32mdef\u001b[0m \u001b[0mmagic_deco\u001b[0m\u001b[0;34m(\u001b[0m\u001b[0marg\u001b[0m\u001b[0;34m)\u001b[0m\u001b[0;34m:\u001b[0m\u001b[0;34m\u001b[0m\u001b[0;34m\u001b[0m\u001b[0m\n\u001b[0;32m--> 187\u001b[0;31m         \u001b[0mcall\u001b[0m \u001b[0;34m=\u001b[0m \u001b[0;32mlambda\u001b[0m \u001b[0mf\u001b[0m\u001b[0;34m,\u001b[0m \u001b[0;34m*\u001b[0m\u001b[0ma\u001b[0m\u001b[0;34m,\u001b[0m \u001b[0;34m**\u001b[0m\u001b[0mk\u001b[0m\u001b[0;34m:\u001b[0m \u001b[0mf\u001b[0m\u001b[0;34m(\u001b[0m\u001b[0;34m*\u001b[0m\u001b[0ma\u001b[0m\u001b[0;34m,\u001b[0m \u001b[0;34m**\u001b[0m\u001b[0mk\u001b[0m\u001b[0;34m)\u001b[0m\u001b[0;34m\u001b[0m\u001b[0;34m\u001b[0m\u001b[0m\n\u001b[0m\u001b[1;32m    188\u001b[0m \u001b[0;34m\u001b[0m\u001b[0m\n\u001b[1;32m    189\u001b[0m         \u001b[0;32mif\u001b[0m \u001b[0mcallable\u001b[0m\u001b[0;34m(\u001b[0m\u001b[0marg\u001b[0m\u001b[0;34m)\u001b[0m\u001b[0;34m:\u001b[0m\u001b[0;34m\u001b[0m\u001b[0;34m\u001b[0m\u001b[0m\n",
      "\u001b[0;32m~/anaconda3/lib/python3.7/site-packages/IPython/core/magics/script.py\u001b[0m in \u001b[0;36mshebang\u001b[0;34m(self, line, cell)\u001b[0m\n\u001b[1;32m    243\u001b[0m             \u001b[0msys\u001b[0m\u001b[0;34m.\u001b[0m\u001b[0mstderr\u001b[0m\u001b[0;34m.\u001b[0m\u001b[0mflush\u001b[0m\u001b[0;34m(\u001b[0m\u001b[0;34m)\u001b[0m\u001b[0;34m\u001b[0m\u001b[0;34m\u001b[0m\u001b[0m\n\u001b[1;32m    244\u001b[0m         \u001b[0;32mif\u001b[0m \u001b[0margs\u001b[0m\u001b[0;34m.\u001b[0m\u001b[0mraise_error\u001b[0m \u001b[0;32mand\u001b[0m \u001b[0mp\u001b[0m\u001b[0;34m.\u001b[0m\u001b[0mreturncode\u001b[0m\u001b[0;34m!=\u001b[0m\u001b[0;36m0\u001b[0m\u001b[0;34m:\u001b[0m\u001b[0;34m\u001b[0m\u001b[0;34m\u001b[0m\u001b[0m\n\u001b[0;32m--> 245\u001b[0;31m             \u001b[0;32mraise\u001b[0m \u001b[0mCalledProcessError\u001b[0m\u001b[0;34m(\u001b[0m\u001b[0mp\u001b[0m\u001b[0;34m.\u001b[0m\u001b[0mreturncode\u001b[0m\u001b[0;34m,\u001b[0m \u001b[0mcell\u001b[0m\u001b[0;34m,\u001b[0m \u001b[0moutput\u001b[0m\u001b[0;34m=\u001b[0m\u001b[0mout\u001b[0m\u001b[0;34m,\u001b[0m \u001b[0mstderr\u001b[0m\u001b[0;34m=\u001b[0m\u001b[0merr\u001b[0m\u001b[0;34m)\u001b[0m\u001b[0;34m\u001b[0m\u001b[0;34m\u001b[0m\u001b[0m\n\u001b[0m\u001b[1;32m    246\u001b[0m \u001b[0;34m\u001b[0m\u001b[0m\n\u001b[1;32m    247\u001b[0m     \u001b[0;32mdef\u001b[0m \u001b[0m_run_script\u001b[0m\u001b[0;34m(\u001b[0m\u001b[0mself\u001b[0m\u001b[0;34m,\u001b[0m \u001b[0mp\u001b[0m\u001b[0;34m,\u001b[0m \u001b[0mcell\u001b[0m\u001b[0;34m,\u001b[0m \u001b[0mto_close\u001b[0m\u001b[0;34m)\u001b[0m\u001b[0;34m:\u001b[0m\u001b[0;34m\u001b[0m\u001b[0;34m\u001b[0m\u001b[0m\n",
      "\u001b[0;31mCalledProcessError\u001b[0m: Command 'b'./Pruning/pruning.py forests/adult/text/DT_1.json forests/adult/FeatureVectors.dat 0.1\\n'' returned non-zero exit status 1."
     ]
    }
   ],
   "source": [
    "%%bash\n",
    "./Pruning/pruning.py forests/adult/text/DT_1.json forests/adult/FeatureVectors.dat 0.1"
   ]
  },
  {
   "cell_type": "code",
   "execution_count": 8,
   "metadata": {},
   "outputs": [
    {
     "name": "stdout",
     "output_type": "stream",
     "text": [
      "forests/adult/text/DT_10.json -> DT_10_pruned_with_sigma_0_1.json\n",
      "forests/adult/text/DT_15.json -> DT_15_pruned_with_sigma_0_1.json\n",
      "forests/adult/text/DT_1.json -> DT_1_pruned_with_sigma_0_1.json\n",
      "forests/adult/text/DT_20.json -> DT_20_pruned_with_sigma_0_1.json\n",
      "forests/adult/text/DT_5.json -> DT_5_pruned_with_sigma_0_1.json\n",
      "forests/adult/text/ET_10.json -> ET_10_pruned_with_sigma_0_1.json\n",
      "forests/adult/text/ET_15.json -> ET_15_pruned_with_sigma_0_1.json\n",
      "forests/adult/text/ET_1.json -> ET_1_pruned_with_sigma_0_1.json\n",
      "forests/adult/text/ET_20.json -> ET_20_pruned_with_sigma_0_1.json\n",
      "forests/adult/text/ET_5.json -> ET_5_pruned_with_sigma_0_1.json\n",
      "forests/adult/text/RF_10.json -> RF_10_pruned_with_sigma_0_1.json\n",
      "forests/adult/text/RF_15.json -> RF_15_pruned_with_sigma_0_1.json\n",
      "forests/adult/text/RF_1.json -> RF_1_pruned_with_sigma_0_1.json\n",
      "forests/adult/text/RF_20.json -> RF_20_pruned_with_sigma_0_1.json\n",
      "forests/adult/text/RF_5.json -> RF_5_pruned_with_sigma_0_1.json\n",
      "forests/wine-quality/text/DT_10.json -> DT_10_pruned_with_sigma_0_1.json\n",
      "forests/wine-quality/text/DT_15.json -> DT_15_pruned_with_sigma_0_1.json\n",
      "forests/wine-quality/text/DT_1.json -> DT_1_pruned_with_sigma_0_1.json\n",
      "forests/wine-quality/text/DT_20.json -> DT_20_pruned_with_sigma_0_1.json\n",
      "forests/wine-quality/text/DT_5.json -> DT_5_pruned_with_sigma_0_1.json\n",
      "forests/wine-quality/text/ET_10.json -> ET_10_pruned_with_sigma_0_1.json\n",
      "forests/wine-quality/text/ET_15.json -> ET_15_pruned_with_sigma_0_1.json\n",
      "forests/wine-quality/text/ET_1.json -> ET_1_pruned_with_sigma_0_1.json\n",
      "forests/wine-quality/text/ET_20.json -> ET_20_pruned_with_sigma_0_1.json\n",
      "forests/wine-quality/text/ET_5.json -> ET_5_pruned_with_sigma_0_1.json\n",
      "forests/wine-quality/text/RF_10.json -> RF_10_pruned_with_sigma_0_1.json\n",
      "forests/wine-quality/text/RF_15.json -> RF_15_pruned_with_sigma_0_1.json\n",
      "forests/wine-quality/text/RF_1.json -> RF_1_pruned_with_sigma_0_1.json\n",
      "forests/wine-quality/text/RF_20.json -> RF_20_pruned_with_sigma_0_1.json\n",
      "forests/wine-quality/text/RF_5.json -> RF_5_pruned_with_sigma_0_1.json\n"
     ]
    },
    {
     "name": "stderr",
     "output_type": "stream",
     "text": [
      "Traceback (most recent call last):\n",
      "  File \"./Pruning/pruning.py\", line 17, in <module>\n",
      "    import Forest\n",
      "ModuleNotFoundError: No module named 'Forest'\n",
      "Traceback (most recent call last):\n",
      "  File \"./Pruning/pruning.py\", line 17, in <module>\n",
      "    import Forest\n",
      "ModuleNotFoundError: No module named 'Forest'\n",
      "Traceback (most recent call last):\n",
      "  File \"./Pruning/pruning.py\", line 17, in <module>\n",
      "    import Forest\n",
      "ModuleNotFoundError: No module named 'Forest'\n",
      "Traceback (most recent call last):\n",
      "  File \"./Pruning/pruning.py\", line 17, in <module>\n",
      "    import Forest\n",
      "ModuleNotFoundError: No module named 'Forest'\n",
      "Traceback (most recent call last):\n",
      "  File \"./Pruning/pruning.py\", line 17, in <module>\n",
      "    import Forest\n",
      "ModuleNotFoundError: No module named 'Forest'\n",
      "Traceback (most recent call last):\n",
      "  File \"./Pruning/pruning.py\", line 17, in <module>\n",
      "    import Forest\n",
      "ModuleNotFoundError: No module named 'Forest'\n",
      "Traceback (most recent call last):\n",
      "  File \"./Pruning/pruning.py\", line 17, in <module>\n",
      "    import Forest\n",
      "ModuleNotFoundError: No module named 'Forest'\n",
      "Traceback (most recent call last):\n",
      "  File \"./Pruning/pruning.py\", line 17, in <module>\n",
      "    import Forest\n",
      "ModuleNotFoundError: No module named 'Forest'\n",
      "Traceback (most recent call last):\n",
      "  File \"./Pruning/pruning.py\", line 17, in <module>\n",
      "    import Forest\n",
      "ModuleNotFoundError: No module named 'Forest'\n",
      "Traceback (most recent call last):\n",
      "  File \"./Pruning/pruning.py\", line 17, in <module>\n",
      "    import Forest\n",
      "ModuleNotFoundError: No module named 'Forest'\n",
      "Traceback (most recent call last):\n",
      "  File \"./Pruning/pruning.py\", line 17, in <module>\n",
      "    import Forest\n",
      "ModuleNotFoundError: No module named 'Forest'\n",
      "Traceback (most recent call last):\n",
      "  File \"./Pruning/pruning.py\", line 17, in <module>\n",
      "    import Forest\n",
      "ModuleNotFoundError: No module named 'Forest'\n",
      "Traceback (most recent call last):\n",
      "  File \"./Pruning/pruning.py\", line 17, in <module>\n",
      "    import Forest\n",
      "ModuleNotFoundError: No module named 'Forest'\n",
      "Traceback (most recent call last):\n",
      "  File \"./Pruning/pruning.py\", line 17, in <module>\n",
      "    import Forest\n",
      "ModuleNotFoundError: No module named 'Forest'\n",
      "Traceback (most recent call last):\n",
      "  File \"./Pruning/pruning.py\", line 17, in <module>\n",
      "    import Forest\n",
      "ModuleNotFoundError: No module named 'Forest'\n",
      "Traceback (most recent call last):\n",
      "  File \"./Pruning/pruning.py\", line 17, in <module>\n",
      "    import Forest\n",
      "ModuleNotFoundError: No module named 'Forest'\n",
      "Traceback (most recent call last):\n",
      "  File \"./Pruning/pruning.py\", line 17, in <module>\n",
      "    import Forest\n",
      "ModuleNotFoundError: No module named 'Forest'\n",
      "Traceback (most recent call last):\n",
      "  File \"./Pruning/pruning.py\", line 17, in <module>\n",
      "    import Forest\n",
      "ModuleNotFoundError: No module named 'Forest'\n",
      "Traceback (most recent call last):\n",
      "  File \"./Pruning/pruning.py\", line 17, in <module>\n",
      "    import Forest\n",
      "ModuleNotFoundError: No module named 'Forest'\n",
      "Traceback (most recent call last):\n",
      "  File \"./Pruning/pruning.py\", line 17, in <module>\n",
      "    import Forest\n",
      "ModuleNotFoundError: No module named 'Forest'\n",
      "Traceback (most recent call last):\n",
      "  File \"./Pruning/pruning.py\", line 17, in <module>\n",
      "    import Forest\n",
      "ModuleNotFoundError: No module named 'Forest'\n",
      "Traceback (most recent call last):\n",
      "  File \"./Pruning/pruning.py\", line 17, in <module>\n",
      "    import Forest\n",
      "ModuleNotFoundError: No module named 'Forest'\n",
      "Traceback (most recent call last):\n",
      "  File \"./Pruning/pruning.py\", line 17, in <module>\n",
      "    import Forest\n",
      "ModuleNotFoundError: No module named 'Forest'\n",
      "Traceback (most recent call last):\n",
      "  File \"./Pruning/pruning.py\", line 17, in <module>\n",
      "    import Forest\n",
      "ModuleNotFoundError: No module named 'Forest'\n",
      "Traceback (most recent call last):\n",
      "  File \"./Pruning/pruning.py\", line 17, in <module>\n",
      "    import Forest\n",
      "ModuleNotFoundError: No module named 'Forest'\n",
      "Traceback (most recent call last):\n",
      "  File \"./Pruning/pruning.py\", line 17, in <module>\n",
      "    import Forest\n",
      "ModuleNotFoundError: No module named 'Forest'\n",
      "Traceback (most recent call last):\n",
      "  File \"./Pruning/pruning.py\", line 17, in <module>\n",
      "    import Forest\n",
      "ModuleNotFoundError: No module named 'Forest'\n",
      "Traceback (most recent call last):\n",
      "  File \"./Pruning/pruning.py\", line 17, in <module>\n",
      "    import Forest\n",
      "ModuleNotFoundError: No module named 'Forest'\n",
      "Traceback (most recent call last):\n",
      "  File \"./Pruning/pruning.py\", line 17, in <module>\n",
      "    import Forest\n",
      "ModuleNotFoundError: No module named 'Forest'\n",
      "Traceback (most recent call last):\n",
      "  File \"./Pruning/pruning.py\", line 17, in <module>\n",
      "    import Forest\n",
      "ModuleNotFoundError: No module named 'Forest'\n"
     ]
    },
    {
     "ename": "CalledProcessError",
     "evalue": "Command 'b\"for dataset in adult wine-quality; do\\n    for f in forests/${dataset}/text/*.json; do\\n        echo ${f} '->' `basename ${f} .json`_pruned_with_sigma_0_1.json\\n        ./Pruning/pruning.py ${f} forests/${dataset}/FeatureVectors.dat 0.1\\n    done\\ndone\\n\"' returned non-zero exit status 1.",
     "output_type": "error",
     "traceback": [
      "\u001b[0;31m---------------------------------------------------------------------------\u001b[0m",
      "\u001b[0;31mCalledProcessError\u001b[0m                        Traceback (most recent call last)",
      "\u001b[0;32m<ipython-input-8-e07b8a04096c>\u001b[0m in \u001b[0;36m<module>\u001b[0;34m\u001b[0m\n\u001b[0;32m----> 1\u001b[0;31m \u001b[0mget_ipython\u001b[0m\u001b[0;34m(\u001b[0m\u001b[0;34m)\u001b[0m\u001b[0;34m.\u001b[0m\u001b[0mrun_cell_magic\u001b[0m\u001b[0;34m(\u001b[0m\u001b[0;34m'bash'\u001b[0m\u001b[0;34m,\u001b[0m \u001b[0;34m''\u001b[0m\u001b[0;34m,\u001b[0m \u001b[0;34m\"for dataset in adult wine-quality; do\\n    for f in forests/${dataset}/text/*.json; do\\n        echo ${f} '->' `basename ${f} .json`_pruned_with_sigma_0_1.json\\n        ./Pruning/pruning.py ${f} forests/${dataset}/FeatureVectors.dat 0.1\\n    done\\ndone\\n\"\u001b[0m\u001b[0;34m)\u001b[0m\u001b[0;34m\u001b[0m\u001b[0;34m\u001b[0m\u001b[0m\n\u001b[0m",
      "\u001b[0;32m~/anaconda3/lib/python3.7/site-packages/IPython/core/interactiveshell.py\u001b[0m in \u001b[0;36mrun_cell_magic\u001b[0;34m(self, magic_name, line, cell)\u001b[0m\n\u001b[1;32m   2350\u001b[0m             \u001b[0;32mwith\u001b[0m \u001b[0mself\u001b[0m\u001b[0;34m.\u001b[0m\u001b[0mbuiltin_trap\u001b[0m\u001b[0;34m:\u001b[0m\u001b[0;34m\u001b[0m\u001b[0;34m\u001b[0m\u001b[0m\n\u001b[1;32m   2351\u001b[0m                 \u001b[0margs\u001b[0m \u001b[0;34m=\u001b[0m \u001b[0;34m(\u001b[0m\u001b[0mmagic_arg_s\u001b[0m\u001b[0;34m,\u001b[0m \u001b[0mcell\u001b[0m\u001b[0;34m)\u001b[0m\u001b[0;34m\u001b[0m\u001b[0;34m\u001b[0m\u001b[0m\n\u001b[0;32m-> 2352\u001b[0;31m                 \u001b[0mresult\u001b[0m \u001b[0;34m=\u001b[0m \u001b[0mfn\u001b[0m\u001b[0;34m(\u001b[0m\u001b[0;34m*\u001b[0m\u001b[0margs\u001b[0m\u001b[0;34m,\u001b[0m \u001b[0;34m**\u001b[0m\u001b[0mkwargs\u001b[0m\u001b[0;34m)\u001b[0m\u001b[0;34m\u001b[0m\u001b[0;34m\u001b[0m\u001b[0m\n\u001b[0m\u001b[1;32m   2353\u001b[0m             \u001b[0;32mreturn\u001b[0m \u001b[0mresult\u001b[0m\u001b[0;34m\u001b[0m\u001b[0;34m\u001b[0m\u001b[0m\n\u001b[1;32m   2354\u001b[0m \u001b[0;34m\u001b[0m\u001b[0m\n",
      "\u001b[0;32m~/anaconda3/lib/python3.7/site-packages/IPython/core/magics/script.py\u001b[0m in \u001b[0;36mnamed_script_magic\u001b[0;34m(line, cell)\u001b[0m\n\u001b[1;32m    140\u001b[0m             \u001b[0;32melse\u001b[0m\u001b[0;34m:\u001b[0m\u001b[0;34m\u001b[0m\u001b[0;34m\u001b[0m\u001b[0m\n\u001b[1;32m    141\u001b[0m                 \u001b[0mline\u001b[0m \u001b[0;34m=\u001b[0m \u001b[0mscript\u001b[0m\u001b[0;34m\u001b[0m\u001b[0;34m\u001b[0m\u001b[0m\n\u001b[0;32m--> 142\u001b[0;31m             \u001b[0;32mreturn\u001b[0m \u001b[0mself\u001b[0m\u001b[0;34m.\u001b[0m\u001b[0mshebang\u001b[0m\u001b[0;34m(\u001b[0m\u001b[0mline\u001b[0m\u001b[0;34m,\u001b[0m \u001b[0mcell\u001b[0m\u001b[0;34m)\u001b[0m\u001b[0;34m\u001b[0m\u001b[0;34m\u001b[0m\u001b[0m\n\u001b[0m\u001b[1;32m    143\u001b[0m \u001b[0;34m\u001b[0m\u001b[0m\n\u001b[1;32m    144\u001b[0m         \u001b[0;31m# write a basic docstring:\u001b[0m\u001b[0;34m\u001b[0m\u001b[0;34m\u001b[0m\u001b[0;34m\u001b[0m\u001b[0m\n",
      "\u001b[0;32m</home/markus/anaconda3/lib/python3.7/site-packages/decorator.py:decorator-gen-110>\u001b[0m in \u001b[0;36mshebang\u001b[0;34m(self, line, cell)\u001b[0m\n",
      "\u001b[0;32m~/anaconda3/lib/python3.7/site-packages/IPython/core/magic.py\u001b[0m in \u001b[0;36m<lambda>\u001b[0;34m(f, *a, **k)\u001b[0m\n\u001b[1;32m    185\u001b[0m     \u001b[0;31m# but it's overkill for just that one bit of state.\u001b[0m\u001b[0;34m\u001b[0m\u001b[0;34m\u001b[0m\u001b[0;34m\u001b[0m\u001b[0m\n\u001b[1;32m    186\u001b[0m     \u001b[0;32mdef\u001b[0m \u001b[0mmagic_deco\u001b[0m\u001b[0;34m(\u001b[0m\u001b[0marg\u001b[0m\u001b[0;34m)\u001b[0m\u001b[0;34m:\u001b[0m\u001b[0;34m\u001b[0m\u001b[0;34m\u001b[0m\u001b[0m\n\u001b[0;32m--> 187\u001b[0;31m         \u001b[0mcall\u001b[0m \u001b[0;34m=\u001b[0m \u001b[0;32mlambda\u001b[0m \u001b[0mf\u001b[0m\u001b[0;34m,\u001b[0m \u001b[0;34m*\u001b[0m\u001b[0ma\u001b[0m\u001b[0;34m,\u001b[0m \u001b[0;34m**\u001b[0m\u001b[0mk\u001b[0m\u001b[0;34m:\u001b[0m \u001b[0mf\u001b[0m\u001b[0;34m(\u001b[0m\u001b[0;34m*\u001b[0m\u001b[0ma\u001b[0m\u001b[0;34m,\u001b[0m \u001b[0;34m**\u001b[0m\u001b[0mk\u001b[0m\u001b[0;34m)\u001b[0m\u001b[0;34m\u001b[0m\u001b[0;34m\u001b[0m\u001b[0m\n\u001b[0m\u001b[1;32m    188\u001b[0m \u001b[0;34m\u001b[0m\u001b[0m\n\u001b[1;32m    189\u001b[0m         \u001b[0;32mif\u001b[0m \u001b[0mcallable\u001b[0m\u001b[0;34m(\u001b[0m\u001b[0marg\u001b[0m\u001b[0;34m)\u001b[0m\u001b[0;34m:\u001b[0m\u001b[0;34m\u001b[0m\u001b[0;34m\u001b[0m\u001b[0m\n",
      "\u001b[0;32m~/anaconda3/lib/python3.7/site-packages/IPython/core/magics/script.py\u001b[0m in \u001b[0;36mshebang\u001b[0;34m(self, line, cell)\u001b[0m\n\u001b[1;32m    243\u001b[0m             \u001b[0msys\u001b[0m\u001b[0;34m.\u001b[0m\u001b[0mstderr\u001b[0m\u001b[0;34m.\u001b[0m\u001b[0mflush\u001b[0m\u001b[0;34m(\u001b[0m\u001b[0;34m)\u001b[0m\u001b[0;34m\u001b[0m\u001b[0;34m\u001b[0m\u001b[0m\n\u001b[1;32m    244\u001b[0m         \u001b[0;32mif\u001b[0m \u001b[0margs\u001b[0m\u001b[0;34m.\u001b[0m\u001b[0mraise_error\u001b[0m \u001b[0;32mand\u001b[0m \u001b[0mp\u001b[0m\u001b[0;34m.\u001b[0m\u001b[0mreturncode\u001b[0m\u001b[0;34m!=\u001b[0m\u001b[0;36m0\u001b[0m\u001b[0;34m:\u001b[0m\u001b[0;34m\u001b[0m\u001b[0;34m\u001b[0m\u001b[0m\n\u001b[0;32m--> 245\u001b[0;31m             \u001b[0;32mraise\u001b[0m \u001b[0mCalledProcessError\u001b[0m\u001b[0;34m(\u001b[0m\u001b[0mp\u001b[0m\u001b[0;34m.\u001b[0m\u001b[0mreturncode\u001b[0m\u001b[0;34m,\u001b[0m \u001b[0mcell\u001b[0m\u001b[0;34m,\u001b[0m \u001b[0moutput\u001b[0m\u001b[0;34m=\u001b[0m\u001b[0mout\u001b[0m\u001b[0;34m,\u001b[0m \u001b[0mstderr\u001b[0m\u001b[0;34m=\u001b[0m\u001b[0merr\u001b[0m\u001b[0;34m)\u001b[0m\u001b[0;34m\u001b[0m\u001b[0;34m\u001b[0m\u001b[0m\n\u001b[0m\u001b[1;32m    246\u001b[0m \u001b[0;34m\u001b[0m\u001b[0m\n\u001b[1;32m    247\u001b[0m     \u001b[0;32mdef\u001b[0m \u001b[0m_run_script\u001b[0m\u001b[0;34m(\u001b[0m\u001b[0mself\u001b[0m\u001b[0;34m,\u001b[0m \u001b[0mp\u001b[0m\u001b[0;34m,\u001b[0m \u001b[0mcell\u001b[0m\u001b[0;34m,\u001b[0m \u001b[0mto_close\u001b[0m\u001b[0;34m)\u001b[0m\u001b[0;34m:\u001b[0m\u001b[0;34m\u001b[0m\u001b[0;34m\u001b[0m\u001b[0m\n",
      "\u001b[0;31mCalledProcessError\u001b[0m: Command 'b\"for dataset in adult wine-quality; do\\n    for f in forests/${dataset}/text/*.json; do\\n        echo ${f} '->' `basename ${f} .json`_pruned_with_sigma_0_1.json\\n        ./Pruning/pruning.py ${f} forests/${dataset}/FeatureVectors.dat 0.1\\n    done\\ndone\\n\"' returned non-zero exit status 1."
     ]
    }
   ],
   "source": [
    "%%bash\n",
    "for dataset in adult wine-quality; do\n",
    "    for f in forests/${dataset}/text/*.json; do\n",
    "        echo ${f} '->' `basename ${f} .json`_pruned_with_sigma_0_1.json\n",
    "        ./Pruning/pruning.py ${f} forests/${dataset}/FeatureVectors.dat 0.1\n",
    "    done\n",
    "done"
   ]
  },
  {
   "cell_type": "code",
   "execution_count": null,
   "metadata": {},
   "outputs": [],
   "source": [
    "ls forests/*/text/*.json"
   ]
  }
 ],
 "metadata": {
  "kernelspec": {
   "display_name": "Python 3",
   "language": "python",
   "name": "python3"
  },
  "language_info": {
   "codemirror_mode": {
    "name": "ipython",
    "version": 3
   },
   "file_extension": ".py",
   "mimetype": "text/x-python",
   "name": "python",
   "nbconvert_exporter": "python",
   "pygments_lexer": "ipython3",
   "version": "3.7.5"
  }
 },
 "nbformat": 4,
 "nbformat_minor": 2
}
