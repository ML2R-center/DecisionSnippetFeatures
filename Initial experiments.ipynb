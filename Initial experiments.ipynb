{
 "cells": [
  {
   "cell_type": "markdown",
   "metadata": {},
   "source": [
    "# Frequent Subtree Counting in Random Forests\n",
    "\n",
    "The goal of this project is to compress the generated source code of decision tree classifiers on embedded devices.\n",
    "Therefore, as a first step, we investigate for several trained random forests, whether they have certain frequent subtrees in common.\n",
    "Such subtrees might be implemented by a function which is called several times in the corresponding places of the decision trees. \n",
    "This can decrease the code size of the generated embedded-c source files and executables.\n",
    "\n",
    "## Datasets\n",
    "There are several datasets.\n",
    "At the moment, however, I'll experiment only with 'adult' and 'wine-quality'.\n",
    "The data are given as json files of the following names:"
   ]
  },
  {
   "cell_type": "code",
   "execution_count": 5,
   "metadata": {},
   "outputs": [
    {
     "name": "stdout",
     "output_type": "stream",
     "text": [
      "forests/adult/text/DT_10.json  forests/wine-quality/text/DT_10.json\n",
      "forests/adult/text/DT_15.json  forests/wine-quality/text/DT_15.json\n",
      "forests/adult/text/DT_1.json   forests/wine-quality/text/DT_1.json\n",
      "forests/adult/text/DT_20.json  forests/wine-quality/text/DT_20.json\n",
      "forests/adult/text/DT_5.json   forests/wine-quality/text/DT_5.json\n",
      "forests/adult/text/ET_10.json  forests/wine-quality/text/ET_10.json\n",
      "forests/adult/text/ET_15.json  forests/wine-quality/text/ET_15.json\n",
      "forests/adult/text/ET_1.json   forests/wine-quality/text/ET_1.json\n",
      "forests/adult/text/ET_20.json  forests/wine-quality/text/ET_20.json\n",
      "forests/adult/text/ET_5.json   forests/wine-quality/text/ET_5.json\n",
      "forests/adult/text/RF_10.json  forests/wine-quality/text/RF_10.json\n",
      "forests/adult/text/RF_15.json  forests/wine-quality/text/RF_15.json\n",
      "forests/adult/text/RF_1.json   forests/wine-quality/text/RF_1.json\n",
      "forests/adult/text/RF_20.json  forests/wine-quality/text/RF_20.json\n",
      "forests/adult/text/RF_5.json   forests/wine-quality/text/RF_5.json\n"
     ]
    }
   ],
   "source": [
    "ls forests/*/text/*.json"
   ]
  },
  {
   "cell_type": "markdown",
   "metadata": {},
   "source": [
    "The filenames XX_n.json mean:\n",
    "- XX:\n",
    "  - DT decision tree\n",
    "  - RF random forest with 25 trees\n",
    "  - ET 'extremely random trees'\n",
    "- n: depth of the trees\n",
    "\n",
    "Each tree given here (whether as a decision tree or as a component in a random forest) is a rooted, binary, ordered tree.\n",
    "\n",
    "## Convert the Data\n",
    "\n",
    "We have written a few scripts to convert from json to the format required by the frequent subgraph mining software."
   ]
  },
  {
   "cell_type": "code",
   "execution_count": 7,
   "metadata": {},
   "outputs": [
    {
     "name": "stdout",
     "output_type": "stream",
     "text": [
      "./json2graphNoLeafEdges.py  ./json2graphWithLeafEdges.py\n"
     ]
    }
   ],
   "source": [
    "ls ./*.py"
   ]
  },
  {
   "cell_type": "markdown",
   "metadata": {},
   "source": [
    "See the documentation of the scripts to check what they are doing:"
   ]
  },
  {
   "cell_type": "code",
   "execution_count": 12,
   "metadata": {},
   "outputs": [
    {
     "name": "stdout",
     "output_type": "stream",
     "text": [
      "./json2graphNoLeafEdges.py\n",
      "\u001b[01;31m\u001b[K#\u001b[m\u001b[K# This script creates a graph database from the decision trees in Sebastians json Format as follows:\n",
      "\u001b[01;31m\u001b[K#\u001b[m\u001b[K - the root vertex of the tree has index 1 (counting starts with 1)\n",
      "\u001b[01;31m\u001b[K#\u001b[m\u001b[K - each vertex is labeled by its split feature or by 'leaf'\n",
      "\u001b[01;31m\u001b[K#\u001b[m\u001b[K - each edge is labeled either 'leftChild' or 'rightChild'\n",
      "\u001b[01;31m\u001b[K#\u001b[m\u001b[K - there are no edges containing 'leaf' vertices\n",
      "\u001b[01;31m\u001b[K#\u001b[m\u001b[K\n",
      "\u001b[01;31m\u001b[K#\u001b[m\u001b[K It follows that the connected components resulting from a single decision tree are several isolated vertices labeled 'leaf' \n",
      "\u001b[01;31m\u001b[K#\u001b[m\u001b[K and a tree containing all the split vertices.\n",
      "\n",
      "./json2graphWithLeafEdges.py\n",
      "\u001b[01;31m\u001b[K#\u001b[m\u001b[K# This script creates a graph database from the decision trees in Sebastians json Format as follows:\n",
      "\u001b[01;31m\u001b[K#\u001b[m\u001b[K - the root vertex of the tree has index 1 (counting starts with 1)\n",
      "\u001b[01;31m\u001b[K#\u001b[m\u001b[K - each vertex is labeled by its split feature or by 'leaf'\n",
      "\u001b[01;31m\u001b[K#\u001b[m\u001b[K - each edge is labeled either 'leftChild' or 'rightChild'\n",
      "\u001b[01;31m\u001b[K#\u001b[m\u001b[K - for each edge in a decision tree there is an edge in the graph database\n",
      "\u001b[01;31m\u001b[K#\u001b[m\u001b[K\n",
      "\u001b[01;31m\u001b[K#\u001b[m\u001b[K It follows that the resulting trees in the database correspond 1-1 to the decision trees in the json.\n",
      "\u001b[01;31m\u001b[K#\u001b[m\u001b[K However, we fiddle with the labels of the vertices and forget, e.g., the threshold on which to split.\n",
      "\n"
     ]
    }
   ],
   "source": [
    "for f in ./*.py; do\n",
    "    echo ${f}\n",
    "    grep '^#' < ${f}\n",
    "    echo\n",
    "done"
   ]
  },
  {
   "cell_type": "code",
   "execution_count": 13,
   "metadata": {},
   "outputs": [],
   "source": [
    "mkdir forests/adult/WithLeafEdges/\n",
    "mkdir forests/adult/NoLeafEdges/\n",
    "\n",
    "mkdir forests/wine-quality/WithLeafEdges/\n",
    "mkdir forests/wine-quality/NoLeafEdges/"
   ]
  },
  {
   "cell_type": "code",
   "execution_count": 28,
   "metadata": {},
   "outputs": [
    {
     "name": "stdout",
     "output_type": "stream",
     "text": [
      "forests/adult/text/DT_10.json -> DT_10.graph\n",
      "forests/adult/text/DT_15.json -> DT_15.graph\n",
      "forests/adult/text/DT_1.json -> DT_1.graph\n",
      "forests/adult/text/DT_20.json -> DT_20.graph\n",
      "forests/adult/text/DT_5.json -> DT_5.graph\n",
      "forests/adult/text/ET_10.json -> ET_10.graph\n",
      "forests/adult/text/ET_15.json -> ET_15.graph\n",
      "forests/adult/text/ET_1.json -> ET_1.graph\n",
      "forests/adult/text/ET_20.json -> ET_20.graph\n",
      "forests/adult/text/ET_5.json -> ET_5.graph\n",
      "forests/adult/text/RF_10.json -> RF_10.graph\n",
      "forests/adult/text/RF_15.json -> RF_15.graph\n",
      "forests/adult/text/RF_1.json -> RF_1.graph\n",
      "forests/adult/text/RF_20.json -> RF_20.graph\n",
      "forests/adult/text/RF_5.json -> RF_5.graph\n",
      "forests/wine-quality/text/DT_10.json -> DT_10.graph\n",
      "forests/wine-quality/text/DT_15.json -> DT_15.graph\n",
      "forests/wine-quality/text/DT_1.json -> DT_1.graph\n",
      "forests/wine-quality/text/DT_20.json -> DT_20.graph\n",
      "forests/wine-quality/text/DT_5.json -> DT_5.graph\n",
      "forests/wine-quality/text/ET_10.json -> ET_10.graph\n",
      "forests/wine-quality/text/ET_15.json -> ET_15.graph\n",
      "forests/wine-quality/text/ET_1.json -> ET_1.graph\n",
      "forests/wine-quality/text/ET_20.json -> ET_20.graph\n",
      "forests/wine-quality/text/ET_5.json -> ET_5.graph\n",
      "forests/wine-quality/text/RF_10.json -> RF_10.graph\n",
      "forests/wine-quality/text/RF_15.json -> RF_15.graph\n",
      "forests/wine-quality/text/RF_1.json -> RF_1.graph\n",
      "forests/wine-quality/text/RF_20.json -> RF_20.graph\n",
      "forests/wine-quality/text/RF_5.json -> RF_5.graph\n"
     ]
    }
   ],
   "source": [
    "for dataset in adult wine-quality; do\n",
    "    for f in forests/${dataset}/text/*.json; do\n",
    "        echo ${f} '->' `basename ${f} .json`.graph\n",
    "        python json2graphWithLeafEdges.py ${f} > forests/${dataset}/WithLeafEdges/`basename ${f} .json`.graph\n",
    "        python json2graphNoLeafEdges.py ${f} > forests/${dataset}/NoLeafEdges/`basename ${f} .json`.graph\n",
    "    done\n",
    "done"
   ]
  },
  {
   "cell_type": "markdown",
   "metadata": {},
   "source": [
    "## Find Frequent Subtrees\n",
    "\n",
    "To be able to meaningfully find frequent subtrees here, we actually need to do two things in the graph mining executable:\n",
    "- make the algorithm able to deal with rooted trees in a meaningful way\n",
    "- "
   ]
  }
 ],
 "metadata": {
  "kernelspec": {
   "display_name": "Bash",
   "language": "bash",
   "name": "bash"
  },
  "language_info": {
   "codemirror_mode": "shell",
   "file_extension": ".sh",
   "mimetype": "text/x-sh",
   "name": "bash"
  }
 },
 "nbformat": 4,
 "nbformat_minor": 2
}
