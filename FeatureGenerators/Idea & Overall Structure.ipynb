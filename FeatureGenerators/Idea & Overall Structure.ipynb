{
 "cells": [
  {
   "cell_type": "code",
   "execution_count": 1,
   "metadata": {},
   "outputs": [],
   "source": [
    "%load_ext line_profiler\n",
    "\n",
    "import csv,operator,sys,os\n",
    "import numpy as np\n",
    "import sklearn\n",
    "import json\n",
    "\n",
    "from functools import reduce\n",
    "\n",
    "sys.path.append('../arch-forest/data/adult/')\n",
    "sys.path.append('../arch-forest/data/')\n",
    "sys.path.append('../arch-forest/code/')\n",
    "import trainForest\n",
    "import Tree\n",
    "\n",
    "import DecisionSnippetFeatures"
   ]
  },
  {
   "cell_type": "code",
   "execution_count": 2,
   "metadata": {},
   "outputs": [],
   "source": [
    "# grab adult training data in the format used by the random forests in forests/adult/text/\n",
    "\n",
    "X = []\n",
    "Y = []\n",
    "\n",
    "f = open(\"../data/adult/adult.data\")\n",
    "for row in f:\n",
    "    if (len(row) > 1):\n",
    "        entries = row.replace(\"\\n\", \"\").replace(\" \", \"\").split(\",\")\n",
    "\n",
    "        x = trainForest.getFeatureVector(entries)\n",
    "\n",
    "        if (entries[-1] == \"<=50K\"):\n",
    "            y = 0\n",
    "        else:\n",
    "            y = 1\n",
    "\n",
    "        Y.append(y)\n",
    "        X.append(x)\n",
    "\n",
    "X = np.array(X).astype(dtype=np.int32)\n",
    "Y = np.array(Y)\n",
    "f.close()"
   ]
  },
  {
   "cell_type": "code",
   "execution_count": 3,
   "metadata": {},
   "outputs": [],
   "source": [
    "# load one of the readily available decision trees\n",
    "f = open('../forests/adult/text/DT_5.json')\n",
    "dt = json.load(f)\n",
    "f.close()\n"
   ]
  },
  {
   "cell_type": "code",
   "execution_count": null,
   "metadata": {},
   "outputs": [],
   "source": [
    "# this creates a transformation of the dataset, assigning each example the vertex id of the leaf vertex \n",
    "# the example turns out at\n",
    "fts = DecisionSnippetFeatures.FrequentSubtreeFeatures(dt).fit_transform(X[:10, :])\n",
    "print(fts)"
   ]
  },
  {
   "cell_type": "code",
   "execution_count": null,
   "metadata": {},
   "outputs": [],
   "source": [
    "# same here, but one hot encoded. hurra. so far, so boring.\n",
    "fts_onehot = DecisionSnippetFeatures.OneHotFrequentSubtreeFeatures(dt).fit_transform(X[:10, :])\n",
    "print(fts_onehot)"
   ]
  },
  {
   "cell_type": "markdown",
   "metadata": {},
   "source": [
    "# Something New, Something Interesting\n",
    "\n",
    "Let's get funky.\n",
    "\n",
    "For this, we need\n",
    "\n",
    "- [ ] Frequent Patterns with split values\n",
    "    - [x] New Data transformator JSON -> GRAPH\n",
    "    - [x] Transform to GRAPH\n",
    "    - [x] Mining frequent patterns ('Initial Rooted Frequent Subtree Mining (without embedding computation) -- With Split Values in Labels.ipynb')\n",
    "    - [x] New Data transformator CSTRING -> JSON (cString2json.py updated)\n",
    "    - [x] Transform to JSON ('Find All Occurrences of All Frequent Patterns of Size up to 6.ipynb')\n",
    "    - [ ] fix missing member problem in SubtreeFeatures"
   ]
  },
  {
   "cell_type": "code",
   "execution_count": 3,
   "metadata": {},
   "outputs": [],
   "source": [
    "f = open('../forests/rootedFrequentTrees/adult/WithLeafEdgesWithSplitValues/leq6/RF_15_t2.json')\n",
    "frequentpatterns = json.load(f)\n",
    "f.close()"
   ]
  },
  {
   "cell_type": "code",
   "execution_count": null,
   "metadata": {},
   "outputs": [],
   "source": [
    "frequentpatterns[:10]"
   ]
  },
  {
   "cell_type": "code",
   "execution_count": null,
   "metadata": {},
   "outputs": [],
   "source": [
    "X[:10, :]"
   ]
  },
  {
   "cell_type": "code",
   "execution_count": 4,
   "metadata": {},
   "outputs": [
    {
     "name": "stdout",
     "output_type": "stream",
     "text": [
      "CPU times: user 5 ms, sys: 86 µs, total: 5.08 ms\n",
      "Wall time: 5.16 ms\n"
     ]
    }
   ],
   "source": [
    "%time dsf_onehot = DecisionSnippetFeatures.OneHotFrequentSubtreeFeatures(map(lambda x: x['pattern'], frequentpatterns[-100:]))\n"
   ]
  },
  {
   "cell_type": "code",
   "execution_count": 5,
   "metadata": {},
   "outputs": [
    {
     "name": "stdout",
     "output_type": "stream",
     "text": [
      "CPU times: user 16.3 s, sys: 112 ms, total: 16.4 s\n",
      "Wall time: 16.4 s\n"
     ]
    }
   ],
   "source": [
    "# %lprun -f DecisionSnippetFeatures.OneHotFeatureGeneratingTree.get_features dsf.fit_transform(X)\n",
    "%time fts_onehot = dsf_onehot.fit_transform(X)"
   ]
  },
  {
   "cell_type": "code",
   "execution_count": 8,
   "metadata": {},
   "outputs": [
    {
     "name": "stdout",
     "output_type": "stream",
     "text": [
      "CPU times: user 4.23 ms, sys: 2 µs, total: 4.23 ms\n",
      "Wall time: 4.24 ms\n"
     ]
    }
   ],
   "source": [
    "%time dsf = DecisionSnippetFeatures.FrequentSubtreeFeatures(map(lambda x: x['pattern'], frequentpatterns[-100:]))"
   ]
  },
  {
   "cell_type": "code",
   "execution_count": 9,
   "metadata": {},
   "outputs": [
    {
     "name": "stdout",
     "output_type": "stream",
     "text": [
      "CPU times: user 8.15 s, sys: 4 ms, total: 8.15 s\n",
      "Wall time: 8.15 s\n"
     ]
    }
   ],
   "source": [
    "%time fts = dsf.fit_transform(X)\n"
   ]
  },
  {
   "cell_type": "code",
   "execution_count": 10,
   "metadata": {},
   "outputs": [
    {
     "name": "stdout",
     "output_type": "stream",
     "text": [
      "CPU times: user 89.7 ms, sys: 36 ms, total: 126 ms\n",
      "Wall time: 124 ms\n"
     ]
    }
   ],
   "source": [
    "from sklearn.preprocessing import OneHotEncoder\n",
    "%time fts_onehot_transform = OneHotEncoder(n_values=dsf.get_n_values()).fit_transform(fts)"
   ]
  },
  {
   "cell_type": "code",
   "execution_count": 11,
   "metadata": {},
   "outputs": [
    {
     "name": "stdout",
     "output_type": "stream",
     "text": [
      "(32561, 64)\n",
      "(32561, 590)\n",
      "(32561, 100)\n",
      "(32561, 590)\n",
      "(32561,)\n"
     ]
    }
   ],
   "source": [
    "print(X.shape)\n",
    "print(fts_onehot.shape)\n",
    "print(fts.shape)\n",
    "print(fts_onehot_transform.shape)\n",
    "print(Y.shape)"
   ]
  },
  {
   "cell_type": "code",
   "execution_count": 19,
   "metadata": {},
   "outputs": [
    {
     "data": {
      "text/plain": [
       "array([0.])"
      ]
     },
     "execution_count": 19,
     "metadata": {},
     "output_type": "execute_result"
    }
   ],
   "source": [
    "diff = fts_onehot - fts_onehot_transform.toarray()\n",
    "np.unique(diff)"
   ]
  },
  {
   "cell_type": "markdown",
   "metadata": {},
   "source": [
    "# Classification Performance of Decision Tree Snippet Features vs. Normal Features "
   ]
  },
  {
   "cell_type": "code",
   "execution_count": 12,
   "metadata": {},
   "outputs": [],
   "source": [
    "from sklearn.linear_model import LinearRegression\n",
    "from sklearn.model_selection import cross_val_score\n",
    "from sklearn.naive_bayes import GaussianNB\n",
    "from sklearn.ensemble import RandomForestClassifier\n",
    "from sklearn.tree import DecisionTreeClassifier"
   ]
  },
  {
   "cell_type": "markdown",
   "metadata": {},
   "source": [
    "### Linear Regression"
   ]
  },
  {
   "cell_type": "code",
   "execution_count": 13,
   "metadata": {},
   "outputs": [
    {
     "name": "stdout",
     "output_type": "stream",
     "text": [
      "CPU times: user 51.9 s, sys: 828 ms, total: 52.8 s\n",
      "Wall time: 52.6 s\n",
      "[-0.11414485 -0.11708251 -0.11171276 -0.11307106 -0.11351519]\n"
     ]
    }
   ],
   "source": [
    "model = LinearRegression()\n",
    "%time fts_onehot_cv_score = cross_val_score(model, fts_onehot, Y, cv=5, scoring='neg_mean_squared_error')\n",
    "print(fts_onehot_cv_score)"
   ]
  },
  {
   "cell_type": "code",
   "execution_count": 16,
   "metadata": {},
   "outputs": [
    {
     "name": "stdout",
     "output_type": "stream",
     "text": [
      "CPU times: user 5.24 s, sys: 84 ms, total: 5.33 s\n",
      "Wall time: 5.33 s\n",
      "[-0.11380369 -0.1156247  -0.11062547 -0.11274396 -0.11262437]\n"
     ]
    }
   ],
   "source": [
    "model = LinearRegression()\n",
    "%time fts_onehot_transform_cv_score = cross_val_score(model, fts_onehot_transform, Y, cv=5, scoring='neg_mean_squared_error')\n",
    "print(fts_onehot_transform_cv_score)"
   ]
  },
  {
   "cell_type": "code",
   "execution_count": 15,
   "metadata": {},
   "outputs": [
    {
     "name": "stdout",
     "output_type": "stream",
     "text": [
      "[-0.11673837 -0.11713078 -0.11536309 -0.11525609 -0.11559877]\n"
     ]
    }
   ],
   "source": [
    "model = LinearRegression()\n",
    "normalfeatures_cv_score = cross_val_score(model, X, Y, cv=5, scoring='neg_mean_squared_error')\n",
    "print(normalfeatures_cv_score)"
   ]
  },
  {
   "cell_type": "markdown",
   "metadata": {},
   "source": [
    "### Naive Bayes"
   ]
  },
  {
   "cell_type": "code",
   "execution_count": 29,
   "metadata": {},
   "outputs": [
    {
     "name": "stdout",
     "output_type": "stream",
     "text": [
      "[0.62390533 0.61197548 0.61228317 0.61614266 0.61734814]\n"
     ]
    }
   ],
   "source": [
    "model = GaussianNB()\n",
    "fts_onehot_nb_cv_score = cross_val_score(model, fts_onehot, Y, cv=5, scoring='f1')\n",
    "print(fts_onehot_nb_cv_score)"
   ]
  },
  {
   "cell_type": "code",
   "execution_count": 30,
   "metadata": {},
   "outputs": [
    {
     "name": "stdout",
     "output_type": "stream",
     "text": [
      "[0.4222318  0.41802575 0.42875817 0.40732665 0.43421624]\n"
     ]
    }
   ],
   "source": [
    "model = GaussianNB()\n",
    "normalfeatures_nb_cv_score = cross_val_score(model, X, Y, cv=5, scoring='f1')\n",
    "print(normalfeatures_nb_cv_score)"
   ]
  },
  {
   "cell_type": "markdown",
   "metadata": {},
   "source": [
    "### Thresholded Linear Regression"
   ]
  },
  {
   "cell_type": "code",
   "execution_count": 35,
   "metadata": {},
   "outputs": [],
   "source": [
    "class LinRegClassifier(LinearRegression):\n",
    "    def __init__(self, threshold=0.5):\n",
    "        super(LinRegClassifier, self).__init__()\n",
    "        self.threshold = threshold\n",
    "    \n",
    "    def predict(self, X):\n",
    "        p = super(LinRegClassifier, self).predict(X)\n",
    "        return (p > self.threshold)\n"
   ]
  },
  {
   "cell_type": "code",
   "execution_count": 36,
   "metadata": {},
   "outputs": [
    {
     "name": "stdout",
     "output_type": "stream",
     "text": [
      "[0.63606072 0.63023952 0.64129616 0.62804878 0.65166909]\n"
     ]
    }
   ],
   "source": [
    "model = LinRegClassifier()\n",
    "fts_onehot_nb_cv_score = cross_val_score(model, fts_onehot, Y, cv=5, scoring='f1')\n",
    "print(fts_onehot_nb_cv_score)"
   ]
  },
  {
   "cell_type": "code",
   "execution_count": 38,
   "metadata": {},
   "outputs": [
    {
     "name": "stdout",
     "output_type": "stream",
     "text": [
      "[0.58562691 0.59600614 0.60770111 0.59946133 0.61109044]\n"
     ]
    }
   ],
   "source": [
    "model = LinRegClassifier()\n",
    "normalfeatures_nb_cv_score = cross_val_score(model, X, Y, cv=5, scoring='f1')\n",
    "print(normalfeatures_nb_cv_score)"
   ]
  },
  {
   "cell_type": "markdown",
   "metadata": {},
   "source": [
    "## Comparison to DT and RF on Train"
   ]
  },
  {
   "cell_type": "code",
   "execution_count": 39,
   "metadata": {},
   "outputs": [
    {
     "name": "stdout",
     "output_type": "stream",
     "text": [
      "[0.63925109 0.65052136 0.66291432 0.68250251 0.66883328]\n"
     ]
    }
   ],
   "source": [
    "model = DecisionTreeClassifier(max_depth=15)\n",
    "normalfeatures_nb_cv_score = cross_val_score(model, X, Y, cv=5, scoring='f1')\n",
    "print(normalfeatures_nb_cv_score)"
   ]
  },
  {
   "cell_type": "code",
   "execution_count": 40,
   "metadata": {},
   "outputs": [
    {
     "name": "stdout",
     "output_type": "stream",
     "text": [
      "[0.65478356 0.65532544 0.67052441 0.68114368 0.66642495]\n"
     ]
    }
   ],
   "source": [
    "model = RandomForestClassifier(max_depth=15)\n",
    "normalfeatures_nb_cv_score = cross_val_score(model, X, Y, cv=5, scoring='f1')\n",
    "print(normalfeatures_nb_cv_score)"
   ]
  }
 ],
 "metadata": {
  "kernelspec": {
   "display_name": "Python 3",
   "language": "python",
   "name": "python3"
  },
  "language_info": {
   "codemirror_mode": {
    "name": "ipython",
    "version": 3
   },
   "file_extension": ".py",
   "mimetype": "text/x-python",
   "name": "python",
   "nbconvert_exporter": "python",
   "pygments_lexer": "ipython3",
   "version": "3.6.7"
  }
 },
 "nbformat": 4,
 "nbformat_minor": 2
}
