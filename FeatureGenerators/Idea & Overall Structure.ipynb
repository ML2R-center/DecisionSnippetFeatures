{
 "cells": [
  {
   "cell_type": "code",
   "execution_count": 48,
   "metadata": {},
   "outputs": [],
   "source": [
    "import csv,operator,sys,os\n",
    "import numpy as np\n",
    "import sklearn\n",
    "import json\n",
    "\n",
    "from functools import reduce\n",
    "\n",
    "sys.path.append('../arch-forest/data/adult/')\n",
    "sys.path.append('../arch-forest/data/')\n",
    "sys.path.append('../arch-forest/code/')\n",
    "import trainForest\n",
    "import Tree\n",
    "\n",
    "import DecisionTreeSnippet"
   ]
  },
  {
   "cell_type": "code",
   "execution_count": 7,
   "metadata": {},
   "outputs": [],
   "source": [
    "# grab adult training data in the format used by the random forests in forests/adult/text/\n",
    "\n",
    "X = []\n",
    "Y = []\n",
    "\n",
    "f = open(\"../data/adult/adult.data\")\n",
    "for row in f:\n",
    "    if (len(row) > 1):\n",
    "        entries = row.replace(\"\\n\", \"\").replace(\" \", \"\").split(\",\")\n",
    "\n",
    "        x = trainForest.getFeatureVector(entries)\n",
    "\n",
    "        if (entries[-1] == \"<=50K\"):\n",
    "            y = 0\n",
    "        else:\n",
    "            y = 1\n",
    "\n",
    "        Y.append(y)\n",
    "        X.append(x)\n",
    "\n",
    "X = np.array(X).astype(dtype=np.int32)\n",
    "Y = np.array(Y)\n",
    "f.close()"
   ]
  },
  {
   "cell_type": "code",
   "execution_count": 97,
   "metadata": {},
   "outputs": [],
   "source": [
    "# subclass Sebastians Tree class to have a function like predict that returns the leaf node id\n",
    "\n",
    "class FeatureGeneratingTree(Tree.Tree):\n",
    "    \n",
    "    def __init__(self, pattern):\n",
    "        super(FeatureGeneratingTree, self).__init__()\n",
    "        self.fromJSON(pattern)\n",
    "\n",
    "    def get_features(self, x):\n",
    "        curNode = self.head\n",
    "\n",
    "        # walk through the partial decision tree as long as possible\n",
    "        while(curNode.prediction is None):\n",
    "            tmp = curNode\n",
    "            try:\n",
    "                if (x[curNode.feature] <= curNode.split): \n",
    "                    curNode = curNode.leftChild\n",
    "                else:\n",
    "                    curNode = curNode.rightChild\n",
    "            except:\n",
    "                return tmp.id\n",
    "            \n",
    "        return curNode.id\n",
    "           \n",
    "    def get_features_batch(self, X):\n",
    "        return np.vstack([self.get_features(x) for x in X])\n",
    "    \n",
    "\n",
    "class OneHotFeatureGeneratingTree(Tree.Tree):\n",
    "    \n",
    "    def __init__(self, pattern):\n",
    "        super(OneHotFeatureGeneratingTree, self).__init__()\n",
    "        self.fromJSON(pattern)\n",
    "        self.n_nodes = len(self.nodes.keys())\n",
    "\n",
    "    def get_features(self, x):\n",
    "        curNode = self.head\n",
    "\n",
    "        # walk through the partial decision tree as long as possible\n",
    "        while(curNode.prediction is None):\n",
    "            tmp = curNode\n",
    "            try:\n",
    "                if (x[curNode.feature] <= curNode.split): \n",
    "                    curNode = curNode.leftChild\n",
    "                else:\n",
    "                    curNode = curNode.rightChild\n",
    "            except:\n",
    "                return tmp.id\n",
    "         \n",
    "        features = np.zeros(self.n_nodes)\n",
    "        features[curNode.id] = 1\n",
    "        return features\n",
    "        \n",
    "        \n",
    "    def get_features_batch(self, X):\n",
    "        return np.vstack([self.get_features(x) for x in X])\n"
   ]
  },
  {
   "cell_type": "code",
   "execution_count": 91,
   "metadata": {},
   "outputs": [],
   "source": [
    "# we want to build a feature generator for the input data that is based on frequent subtrees of the random forests \n",
    "# trained for the data\n",
    "\n",
    "class FrequentSubtreeFeatures():\n",
    "    def __init__(self, patterns=None):\n",
    "        self.patterns = [FeatureGeneratingTree(pattern) for pattern in patterns]\n",
    "        self.n_features = len(self.patterns)     \n",
    "    \n",
    "    def fit(self, X=None, y=None):\n",
    "        pass\n",
    "    \n",
    "    def transform(self, X):\n",
    "        return np.hstack([pattern.get_features_batch(X) for pattern in self.patterns])\n",
    "\n",
    "    def fit_transform(self, X, y=None):\n",
    "        self.fit(X, y)\n",
    "        return self.transform(X)\n",
    "    \n",
    "    \n",
    "class OneHotFrequentSubtreeFeatures():\n",
    "    def __init__(self, patterns=None):\n",
    "        self.patterns = [OneHotFeatureGeneratingTree(pattern) for pattern in patterns]\n",
    "        self.n_features = sum([p.n_nodes for p in self.patterns])       \n",
    "    \n",
    "    def fit(self, X=None, y=None):\n",
    "        pass\n",
    "    \n",
    "    def transform(self, X):\n",
    "        return np.hstack([pattern.get_features_batch(X) for pattern in self.patterns])     \n",
    "    \n",
    "    def fit_transform(self, X, y=None):\n",
    "        self.fit(X, y)\n",
    "        return self.transform(X)"
   ]
  },
  {
   "cell_type": "code",
   "execution_count": 58,
   "metadata": {},
   "outputs": [],
   "source": [
    "# check whether the tree that sebastian has stored is the DecisionTreeClassifier.tree_ object... it isn't\n",
    "\n",
    "\n",
    "f = open('../forests/adult/text/DT_5.json')\n",
    "dt = json.load(f)\n",
    "f.close()\n"
   ]
  },
  {
   "cell_type": "code",
   "execution_count": 98,
   "metadata": {},
   "outputs": [],
   "source": [
    "fts = FrequentSubtreeFeatures([dt[0], dt[0]]).fit_transform(X[:10, :])"
   ]
  },
  {
   "cell_type": "code",
   "execution_count": 100,
   "metadata": {},
   "outputs": [
    {
     "data": {
      "text/plain": [
       "array([[32, 32],\n",
       "       [47, 47],\n",
       "       [29, 29],\n",
       "       [43, 43],\n",
       "       [ 9,  9],\n",
       "       [28, 28],\n",
       "       [28, 28],\n",
       "       [47, 47],\n",
       "       [35, 35],\n",
       "       [46, 46]])"
      ]
     },
     "execution_count": 100,
     "metadata": {},
     "output_type": "execute_result"
    }
   ],
   "source": [
    "fts"
   ]
  },
  {
   "cell_type": "code",
   "execution_count": 11,
   "metadata": {},
   "outputs": [
    {
     "name": "stdout",
     "output_type": "stream",
     "text": [
      "<sklearn.tree._tree.Tree object at 0x7fcc18449bf8>\n"
     ]
    }
   ],
   "source": []
  }
 ],
 "metadata": {
  "kernelspec": {
   "display_name": "Python 3",
   "language": "python",
   "name": "python3"
  },
  "language_info": {
   "codemirror_mode": {
    "name": "ipython",
    "version": 3
   },
   "file_extension": ".py",
   "mimetype": "text/x-python",
   "name": "python",
   "nbconvert_exporter": "python",
   "pygments_lexer": "ipython3",
   "version": "3.6.7"
  }
 },
 "nbformat": 4,
 "nbformat_minor": 2
}
