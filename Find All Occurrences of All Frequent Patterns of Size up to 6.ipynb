{
 "cells": [
  {
   "cell_type": "markdown",
   "metadata": {},
   "source": [
    "\n",
    "- [x] transform the frequent patterns into json format\n",
    "- [x] create output folders for patterns up to size 6 (vertices)\n",
    "- [x] create output folders for patterns of size exactly 6 (vertices)\n",
    "- [ ] for each frequency threshold and each random forest, find all occurrences of the frequent patterns in the random forest "
   ]
  },
  {
   "cell_type": "code",
   "execution_count": 1,
   "metadata": {},
   "outputs": [],
   "source": [
    "# create output directories\n",
    "for dataset in adult wine-quality; do\n",
    "    for variant in WithLeafEdges NoLeafEdges; do\n",
    "        for patternsize in leq6 eq6; do\n",
    "            mkdir forests/rootedFrequentTrees/${dataset}/${variant}/${patternsize}\n",
    "        done\n",
    "    done\n",
    "done"
   ]
  },
  {
   "cell_type": "code",
   "execution_count": 3,
   "metadata": {},
   "outputs": [
    {
     "name": "stdout",
     "output_type": "stream",
     "text": [
      "Traceback (most recent call last):\n",
      "  File \"./cString2json.py\", line 103, in <module>\n",
      "    result = parseCStringFileUpToSizePatterns(sys.stdin, int(sys.argv[2]))\n",
      "  File \"./cString2json.py\", line 90, in parseCStringFileUpToSizePatterns\n",
      "    jsonBlob = '[' + ',\\n'.join(jsonCStrings) + ']'\n",
      "  File \"./cString2json.py\", line 84, in <lambda>\n",
      "    pairs = map(lambda t: (t[1], t[2]), tokens)\n",
      "IndexError: list index out of range\n"
     ]
    }
   ],
   "source": [
    "# transform the frequent patterns from cString to json format\n",
    "for dataset in adult wine-quality; do\n",
    "    for variant in WithLeafEdges NoLeafEdges; do\n",
    "        for f in forests/rootedFrequentTrees/${dataset}/${variant}/*.patterns; do\n",
    "            ./cString2json.py leq 6 \\\n",
    "            < ${f} \\\n",
    "            > forests/rootedFrequentTrees/${dataset}/${variant}/leq6/`basename ${f} .patterns`.json\n",
    "            \n",
    "            ./cString2json.py eq 6 \\\n",
    "            < ${f} \\\n",
    "            > forests/rootedFrequentTrees/${dataset}/${variant}/eq6/`basename ${f} .patterns`.json\n",
    "        done\n",
    "    done\n",
    "done"
   ]
  },
  {
   "cell_type": "code",
   "execution_count": null,
   "metadata": {},
   "outputs": [
    {
     "name": "stdout",
     "output_type": "stream",
     "text": [
      "processing ET_10 : WithLeafEdges leq6\n",
      "processing ET_10 : WithLeafEdges eq6\n",
      "processing ET_10 : NoLeafEdges leq6\n",
      "processing ET_10 : NoLeafEdges eq6\n",
      "processing ET_15 : WithLeafEdges leq6\n",
      "processing ET_15 : WithLeafEdges eq6\n",
      "processing ET_15 : NoLeafEdges leq6\n"
     ]
    }
   ],
   "source": [
    "for dataset in adult wine-quality; do\n",
    "    for transactionfile in `ls forests/${dataset}/text/*.json | grep -v DT`; do\n",
    "        transactionBasename=`basename ${transactionfile} .json`        \n",
    "        for variant in WithLeafEdges NoLeafEdges; do\n",
    "            for patternsize in leq6 eq6; do\n",
    "            \n",
    "                echo processing ${transactionBasename} : ${variant} ${patternsize}\n",
    "                for patternfile in forests/rootedFrequentTrees/${dataset}/${variant}/${patternsize}/${transactionBasename}*.json; do\n",
    "                    transactionsWithEmbeddings=`basename ${patternfile} .json`_allEmbeddings.json\n",
    "                    sem --id embeddings --jobs 3 \\\n",
    "                    ./findEmbeddings.py ${patternfile} ${transactionfile} \\\n",
    "                    > forests/rootedFrequentTrees/${dataset}/${variant}/${patternsize}/${transactionsWithEmbeddings}\n",
    "                done\n",
    "            done\n",
    "        done\n",
    "    done\n",
    "done\n",
    "\n",
    "sem --id embeddings --wait"
   ]
  },
  {
   "cell_type": "code",
   "execution_count": null,
   "metadata": {},
   "outputs": [],
   "source": []
  }
 ],
 "metadata": {
  "kernelspec": {
   "display_name": "Bash",
   "language": "bash",
   "name": "bash"
  },
  "language_info": {
   "codemirror_mode": "shell",
   "file_extension": ".sh",
   "mimetype": "text/x-sh",
   "name": "bash"
  }
 },
 "nbformat": 4,
 "nbformat_minor": 2
}
