{
 "cells": [
  {
   "cell_type": "markdown",
   "metadata": {},
   "source": [
    "## Find Frequent Subtrees\n",
    "\n",
    "To be able to meaningfully find frequent subtrees in random forests, we actually need to do two things in the graph mining executable:\n",
    "- make the algorithm able to deal with rooted trees in a meaningful way\n",
    "- make the algorithm output at least the root vertex of an embedding (if it exists for a given transaction tree) instead of just 'there is a mapping'\n",
    "\n",
    "### Find Frequent Undirected Trees\n",
    "\n",
    "Regardless of the above, in this notebook I'll first check, how many undirected frequent trees we can find in the 'unrooted variant' of the random forests.\n",
    "That is: We consider the undirected graphs arising from the rooted decision trees by 'forgetting' the root. \n",
    "If there exists a subgraph isomorphism in the rooted variant, then this implies that there exists a subgraph isomorphism in this undirected version. \n",
    "\n",
    "However, this does not imply that the number of frequent undirected subtrees is an upper or lower bound on the number of frequent directed subtrees: \n",
    "There are up to $k$ nonisomorphic rooted trees for each undirected frequent tree.  \n",
    "\n",
    "- All or some of them might be frequent. Hence, the number of frequent directed trees might be larger than the number of undirected frequent trees.\n",
    "- On the other hand, every rooted version by itself might be infrequent in the rooted transaction database, but seen as instances of the undirected subtree, in total they might go over the frequency threshold. Hence, the number of directed frequent trees might be smaller than the number of undirected frequent trees.\n",
    "\n",
    "As a result: Be careful in your interpretation of the results."
   ]
  },
  {
   "cell_type": "code",
   "execution_count": null,
   "metadata": {},
   "outputs": [],
   "source": [
    "# create output directories\n",
    "mkdir forests/undirectedFrequentTrees/\n",
    "for dataset in adult wine-quality; do\n",
    "    mkdir forests/undirectedFrequentTrees/${dataset}/\n",
    "    for variant in WithLeafEdges NoLeafEdges; do\n",
    "        mkdir forests/undirectedFrequentTrees/${dataset}/${variant}/\n",
    "    done\n",
    "done"
   ]
  },
  {
   "cell_type": "code",
   "execution_count": null,
   "metadata": {},
   "outputs": [],
   "source": [
    "for dataset in adult wine-quality; do\n",
    "    for variant in WithLeafEdges NoLeafEdges; do\n",
    "        for f in forests/${dataset}/${variant}/*.graph; do\n",
    "            for threshold in `seq 25 -1 2`; do\n",
    "            \n",
    "                echo \"processing threshold ${threshold} for ${f}\"\n",
    "                ./lwg -e subtree -m bfs -t ${threshold} -p 10 \\\n",
    "                  -o forests/undirectedFrequentTrees/${dataset}/${variant}/`basename ${f} .graph`_t${threshold}.patterns \\\n",
    "                  < ${f} \\\n",
    "                  > forests/undirectedFrequentTrees/${dataset}/${variant}/`basename ${f} .graph`_t${threshold}.features \\\n",
    "                  2> forests/undirectedFrequentTrees/${dataset}/${variant}/`basename ${f} .graph`_t${threshold}.logs\n",
    "                  \n",
    "            done\n",
    "        done\n",
    "    done\n",
    "done"
   ]
  },
  {
   "cell_type": "markdown",
   "metadata": {},
   "source": [
    "### Next Steps\n",
    "\n",
    "The results of this mining process are plotted in the python3 notebook 'Results for Undirected Frequent Trees.ipynb'.\n",
    "Note that the mining process resulting in output 'forests/undirectedFrequentTrees/adult/WithLeafEdges/ER_20_t2.*' did not finish properly and probably got killed due to excessive memory usage while processing patterns of size 6."
   ]
  }
 ],
 "metadata": {
  "kernelspec": {
   "display_name": "Bash",
   "language": "bash",
   "name": "bash"
  },
  "language_info": {
   "codemirror_mode": "shell",
   "file_extension": ".sh",
   "mimetype": "text/x-sh",
   "name": "bash"
  }
 },
 "nbformat": 4,
 "nbformat_minor": 2
}
